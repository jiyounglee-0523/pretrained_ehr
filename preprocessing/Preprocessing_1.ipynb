{
 "cells": [
  {
   "cell_type": "code",
   "execution_count": 1,
   "metadata": {},
   "outputs": [],
   "source": [
    "import pandas as pd\n",
    "import numpy as np\n",
    "import os\n",
    "from tqdm import notebook\n",
    "\n",
    "## Version as of 2021-1-1\n",
    "\n",
    "input_dir = '../../../og_input_data/mimic_eicu_rawdata/' # '../ghhur_data_input/' in old system\n",
    "cohort_dir = '../../../KyungHoon_Dec/cohort/'\n",
    "output_dir = '../../../output/PrePr1_output_Wes/'\n"
   ]
  },
  {
   "cell_type": "code",
   "execution_count": 2,
   "metadata": {},
   "outputs": [],
   "source": [
    "sources = ['mimic','eicu']\n",
    "items= ['lab','med','inf'] # items = ['dx','lab','med','trt','chart','inf']\n",
    "\n",
    "mimic_csv_files = {'dx':['DIAGNOSES_ICD'], 'lab':['LABEVENTS'], 'med':['PRESCRIPTIONS'],  # mimic dictionary\n",
    "                   'trt':['PROCEDURES_ICD','PROCEDUREEVENTS_MV'], 'chart':['CHARTEVENTS'],\n",
    "                  'inf':['INPUTEVENTS_CV', 'INPUTEVENTS_MV']} \n",
    "eicu_csv_files = {'dx':['diagnosis'], 'lab':['lab'], 'med':['medication'], # eicu dictionary\n",
    "                   'trt':['treatment'], 'inf':['infusionDrug']}\n",
    "\n",
    "mimic_dictionary_file = {'DIAGNOSES_ICD':'D_ICD_DIAGNOSES', 'LABEVENTS':'D_LABITEMS', \n",
    "                         'PROCEDURES_ICD':'D_ICD_PROCEDURES', 'PROCEDURES_MV':'D_ITEMS',\n",
    "                        'CHARTEVENTS':'D_ITEMS', 'INPUTEVENTS_CV':'D_ITEMS', 'INPUTEVENTS_MV':'D_ITEMS'}\n",
    "#eicu chartevent 없음"
   ]
  },
  {
   "cell_type": "code",
   "execution_count": 3,
   "metadata": {},
   "outputs": [],
   "source": [
    "mimic_columns_map = {'DIAGNOSES_ICD':  # used to rename\n",
    "                         {'HADM_ID':'ID','SEQ_NUM':'order_offset','ICD9_CODE':'code_name'}, \n",
    "                      'LABEVENTS':\n",
    "                         {'HADM_ID':'ID','CHARTTIME':'order_time','ITEMID':'code_name',\n",
    "                          'VALUE':'value','VALUEUOM':'value_uom','FLAG':'issue'},\n",
    "                     'PRESCRIPTIONS':\n",
    "                         {'HADM_ID':'ID','STARTDATE':'start_time', 'ENDDATE':'end_time', \n",
    "                          'DRUG':'code_name','DOSE_VAL_RX':'value','DOSE_UNIT_RX':'value_uom',\n",
    "                         'ROUTE':'route', 'DRUG_TYPE':'drug_type','FORM_VAL_DISP':'val_disp' ,\n",
    "                          'FORM_UNIT_DISP':'unit_disp'},\n",
    "                     'PROCEDURES_ICD':\n",
    "                         {'HADM_ID':'ID','SEQ_NUM':'order_offset','ICD9_CODE':'code_name'},\n",
    "                     'PROCEDUREEVENTS_MV':\n",
    "                         {'HADM_ID':'ID','STARTTIME':'start_time', 'ENDTIME':'end_time',\n",
    "                          'ICD9_CODE':'code_name','ITEMID':'code_name','VALUE':'value','VALUEUOM':'value_uom',\n",
    "                          'ORDERCATEGORYNAME':'order_category', 'STATUSDESCRIPTION':'issue'},\n",
    "                      'CHARTEVENTS':\n",
    "                         {'HADM_ID':'ID','CHARTTIME':'order_time','ITEMID':'code_name',\n",
    "                          'VALUE':'value','VALUEUOM':'value_uom', 'STOPPED':'stopped', \n",
    "                          'RESULTSTATUS':'resultsatus' ,'ERROR':'error','WARNING':'issue'},                             \n",
    "                      'INPUTEVENTS_CV': \n",
    "                         {'HADM_ID':'ID','CHARTTIME':'order_time', \n",
    "                          'ITEMID':'code_name', 'AMOUNT':'value', 'AMOUNTUOM':'value_uom', \n",
    "                          'RATE':'rate','RATEUOM':'rateuom', 'STOPPED':'issue'},\n",
    "                      'INPUTEVENTS_MV': \n",
    "                         {'HADM_ID':'ID', 'STARTTIME':'start_time', 'ENDTIME':'end_time', \n",
    "                          'ITEMID':'code_name', 'AMOUNT':'value', 'AMOUNTUOM':'value_uom', \n",
    "                          'PATIENTWEIGHT':'patient_weight',\n",
    "                          'RATE':'rate','RATEUOM':'rateuom','STOPPED':'issue'}\n",
    "                    }"
   ]
  },
  {
   "cell_type": "code",
   "execution_count": 4,
   "metadata": {},
   "outputs": [],
   "source": [
    "eicu_columns_map =  {'diagnosis':\n",
    "                         {'patientunitstayid':'ID', 'diagnosisoffset':'order_offset','diagnosisstring':'code_name'},\n",
    "                      'lab':\n",
    "                         {'patientunitstayid':'ID', 'labresultoffset':'order_offset','labname':'code_name',\n",
    "                          'labresulttext':'value','labmeasurenamesystem':'value_uom'},\n",
    "                     'medication':\n",
    "                         {'patientunitstayid':'ID','drugstartoffset':'start_offset', 'drugstopoffset':'end_offset', \n",
    "                          'drugname':'code_name','routeadmin':'route','dosage':'value',\n",
    "                         'routeadmin':'route', 'ordercancelled':'issue'},\n",
    "                     'treatment':\n",
    "                         {'patientunitstayid':'ID','treatmentoffset':'order_offset','treatmentstring':'code_name'},        \n",
    "                      'infusionDrug':\n",
    "                         {'patientunitstayid':'ID','infusionoffset':'order_offset', 'drugname':'code_name',\n",
    "                          'drugamount':'value', 'patientweight':'patient_weight','drugrate':'drugrate','infusionrate':'infusionrate'}\n",
    "                    }"
   ]
  },
  {
   "cell_type": "code",
   "execution_count": 5,
   "metadata": {},
   "outputs": [],
   "source": [
    "issue_map = {'LABEVENTS': ['abnormal'],\n",
    "             'PROCEDUREEVENTS_MV':['Rewritten','Stopped','Paused '], \n",
    "             'CHARTEVENTS': [1] ,                             \n",
    "             'INPUTEVENTS_CV':['Restart','NotStopd'] ,\n",
    "             'INPUTEVENTS_MV': ['Rewritten', 'Changed', 'Paused', 'Flushed', 'Stopped'],\n",
    "             'medication': ['Yes'],          \n",
    "            }"
   ]
  },
  {
   "cell_type": "markdown",
   "metadata": {},
   "source": [
    "# Cohort check"
   ]
  },
  {
   "cell_type": "code",
   "execution_count": 6,
   "metadata": {},
   "outputs": [
    {
     "data": {
      "text/html": [
       "<div>\n",
       "<style scoped>\n",
       "    .dataframe tbody tr th:only-of-type {\n",
       "        vertical-align: middle;\n",
       "    }\n",
       "\n",
       "    .dataframe tbody tr th {\n",
       "        vertical-align: top;\n",
       "    }\n",
       "\n",
       "    .dataframe thead th {\n",
       "        text-align: right;\n",
       "    }\n",
       "</style>\n",
       "<table border=\"1\" class=\"dataframe\">\n",
       "  <thead>\n",
       "    <tr style=\"text-align: right;\">\n",
       "      <th></th>\n",
       "      <th>SUBJECT_ID</th>\n",
       "      <th>HADM_ID</th>\n",
       "      <th>ICUSTAY_ID</th>\n",
       "      <th>DBSOURCE</th>\n",
       "      <th>FIRST_CAREUNIT</th>\n",
       "      <th>LAST_CAREUNIT</th>\n",
       "      <th>FIRST_WARDID</th>\n",
       "      <th>LAST_WARDID</th>\n",
       "      <th>INTIME</th>\n",
       "      <th>OUTTIME</th>\n",
       "      <th>...</th>\n",
       "      <th>DOD_SSN</th>\n",
       "      <th>EXPIRE_FLAG</th>\n",
       "      <th>age</th>\n",
       "      <th>readmission</th>\n",
       "      <th>mortality</th>\n",
       "      <th>los&gt;3day</th>\n",
       "      <th>los&gt;7day</th>\n",
       "      <th>ICD9_CODE</th>\n",
       "      <th>12h_obs</th>\n",
       "      <th>24h_obs</th>\n",
       "    </tr>\n",
       "  </thead>\n",
       "  <tbody>\n",
       "    <tr>\n",
       "      <th>0</th>\n",
       "      <td>58526</td>\n",
       "      <td>100001</td>\n",
       "      <td>275225</td>\n",
       "      <td>metavision</td>\n",
       "      <td>MICU</td>\n",
       "      <td>MICU</td>\n",
       "      <td>52</td>\n",
       "      <td>52</td>\n",
       "      <td>2117-09-11 11:47:35</td>\n",
       "      <td>2117-09-15 17:57:14</td>\n",
       "      <td>...</td>\n",
       "      <td>NaT</td>\n",
       "      <td>0</td>\n",
       "      <td>35</td>\n",
       "      <td>0</td>\n",
       "      <td>0</td>\n",
       "      <td>1</td>\n",
       "      <td>0</td>\n",
       "      <td>[25013, 3371, 5849, 5780, V5867, 25063, 5363, ...</td>\n",
       "      <td>2117-09-11 23:47:35</td>\n",
       "      <td>2117-09-12 11:47:35</td>\n",
       "    </tr>\n",
       "    <tr>\n",
       "      <th>1</th>\n",
       "      <td>54610</td>\n",
       "      <td>100003</td>\n",
       "      <td>209281</td>\n",
       "      <td>metavision</td>\n",
       "      <td>MICU</td>\n",
       "      <td>MICU</td>\n",
       "      <td>50</td>\n",
       "      <td>50</td>\n",
       "      <td>2150-04-17 15:35:42</td>\n",
       "      <td>2150-04-19 14:12:52</td>\n",
       "      <td>...</td>\n",
       "      <td>2150-12-28</td>\n",
       "      <td>1</td>\n",
       "      <td>59</td>\n",
       "      <td>0</td>\n",
       "      <td>0</td>\n",
       "      <td>0</td>\n",
       "      <td>0</td>\n",
       "      <td>[53100, 2851, 07054, 5715, 45621, 53789, 4019,...</td>\n",
       "      <td>2150-04-18 03:35:42</td>\n",
       "      <td>2150-04-18 15:35:42</td>\n",
       "    </tr>\n",
       "    <tr>\n",
       "      <th>2</th>\n",
       "      <td>9895</td>\n",
       "      <td>100006</td>\n",
       "      <td>291788</td>\n",
       "      <td>carevue</td>\n",
       "      <td>MICU</td>\n",
       "      <td>MICU</td>\n",
       "      <td>15</td>\n",
       "      <td>15</td>\n",
       "      <td>2108-04-06 15:50:15</td>\n",
       "      <td>2108-04-11 15:18:03</td>\n",
       "      <td>...</td>\n",
       "      <td>NaT</td>\n",
       "      <td>1</td>\n",
       "      <td>48</td>\n",
       "      <td>0</td>\n",
       "      <td>0</td>\n",
       "      <td>1</td>\n",
       "      <td>0</td>\n",
       "      <td>[49320, 51881, 486, 20300, 2761, 7850, 3090, V...</td>\n",
       "      <td>2108-04-07 03:50:15</td>\n",
       "      <td>2108-04-07 15:50:15</td>\n",
       "    </tr>\n",
       "    <tr>\n",
       "      <th>3</th>\n",
       "      <td>68591</td>\n",
       "      <td>100016</td>\n",
       "      <td>217590</td>\n",
       "      <td>metavision</td>\n",
       "      <td>MICU</td>\n",
       "      <td>MICU</td>\n",
       "      <td>52</td>\n",
       "      <td>23</td>\n",
       "      <td>2188-05-24 13:07:20</td>\n",
       "      <td>2188-05-30 17:16:33</td>\n",
       "      <td>...</td>\n",
       "      <td>2188-07-06</td>\n",
       "      <td>1</td>\n",
       "      <td>55</td>\n",
       "      <td>0</td>\n",
       "      <td>0</td>\n",
       "      <td>1</td>\n",
       "      <td>0</td>\n",
       "      <td>[5070, 51881, 25541, 47874, 7580, 34590, 2512,...</td>\n",
       "      <td>2188-05-25 01:07:20</td>\n",
       "      <td>2188-05-25 13:07:20</td>\n",
       "    </tr>\n",
       "    <tr>\n",
       "      <th>4</th>\n",
       "      <td>16229</td>\n",
       "      <td>100017</td>\n",
       "      <td>258320</td>\n",
       "      <td>carevue</td>\n",
       "      <td>MICU</td>\n",
       "      <td>MICU</td>\n",
       "      <td>15</td>\n",
       "      <td>15</td>\n",
       "      <td>2103-03-11 00:54:00</td>\n",
       "      <td>2103-03-11 17:31:00</td>\n",
       "      <td>...</td>\n",
       "      <td>NaT</td>\n",
       "      <td>0</td>\n",
       "      <td>27</td>\n",
       "      <td>0</td>\n",
       "      <td>0</td>\n",
       "      <td>0</td>\n",
       "      <td>0</td>\n",
       "      <td>[9696, 51881, 78009, 2760, E9503, 29634, 30470...</td>\n",
       "      <td>2103-03-11 12:54:00</td>\n",
       "      <td>2103-03-12 00:54:00</td>\n",
       "    </tr>\n",
       "  </tbody>\n",
       "</table>\n",
       "<p>5 rows × 25 columns</p>\n",
       "</div>"
      ],
      "text/plain": [
       "   SUBJECT_ID  HADM_ID  ICUSTAY_ID    DBSOURCE FIRST_CAREUNIT LAST_CAREUNIT  \\\n",
       "0       58526   100001      275225  metavision           MICU          MICU   \n",
       "1       54610   100003      209281  metavision           MICU          MICU   \n",
       "2        9895   100006      291788     carevue           MICU          MICU   \n",
       "3       68591   100016      217590  metavision           MICU          MICU   \n",
       "4       16229   100017      258320     carevue           MICU          MICU   \n",
       "\n",
       "   FIRST_WARDID  LAST_WARDID              INTIME             OUTTIME  ...  \\\n",
       "0            52           52 2117-09-11 11:47:35 2117-09-15 17:57:14  ...   \n",
       "1            50           50 2150-04-17 15:35:42 2150-04-19 14:12:52  ...   \n",
       "2            15           15 2108-04-06 15:50:15 2108-04-11 15:18:03  ...   \n",
       "3            52           23 2188-05-24 13:07:20 2188-05-30 17:16:33  ...   \n",
       "4            15           15 2103-03-11 00:54:00 2103-03-11 17:31:00  ...   \n",
       "\n",
       "     DOD_SSN EXPIRE_FLAG age readmission mortality los>3day  los>7day  \\\n",
       "0        NaT           0  35           0         0        1         0   \n",
       "1 2150-12-28           1  59           0         0        0         0   \n",
       "2        NaT           1  48           0         0        1         0   \n",
       "3 2188-07-06           1  55           0         0        1         0   \n",
       "4        NaT           0  27           0         0        0         0   \n",
       "\n",
       "                                           ICD9_CODE             12h_obs  \\\n",
       "0  [25013, 3371, 5849, 5780, V5867, 25063, 5363, ... 2117-09-11 23:47:35   \n",
       "1  [53100, 2851, 07054, 5715, 45621, 53789, 4019,... 2150-04-18 03:35:42   \n",
       "2  [49320, 51881, 486, 20300, 2761, 7850, 3090, V... 2108-04-07 03:50:15   \n",
       "3  [5070, 51881, 25541, 47874, 7580, 34590, 2512,... 2188-05-25 01:07:20   \n",
       "4  [9696, 51881, 78009, 2760, E9503, 29634, 30470... 2103-03-11 12:54:00   \n",
       "\n",
       "              24h_obs  \n",
       "0 2117-09-12 11:47:35  \n",
       "1 2150-04-18 15:35:42  \n",
       "2 2108-04-07 15:50:15  \n",
       "3 2188-05-25 13:07:20  \n",
       "4 2103-03-12 00:54:00  \n",
       "\n",
       "[5 rows x 25 columns]"
      ]
     },
     "execution_count": 6,
     "metadata": {},
     "output_type": "execute_result"
    }
   ],
   "source": [
    "mimic_cohort = pd.read_pickle(os.path.join(cohort_dir, 'mimic_cohort.pk'))\n",
    "mimic_cohort.head()"
   ]
  },
  {
   "cell_type": "code",
   "execution_count": 7,
   "metadata": {},
   "outputs": [
    {
     "data": {
      "text/html": [
       "<div>\n",
       "<style scoped>\n",
       "    .dataframe tbody tr th:only-of-type {\n",
       "        vertical-align: middle;\n",
       "    }\n",
       "\n",
       "    .dataframe tbody tr th {\n",
       "        vertical-align: top;\n",
       "    }\n",
       "\n",
       "    .dataframe thead th {\n",
       "        text-align: right;\n",
       "    }\n",
       "</style>\n",
       "<table border=\"1\" class=\"dataframe\">\n",
       "  <thead>\n",
       "    <tr style=\"text-align: right;\">\n",
       "      <th></th>\n",
       "      <th>medicationid</th>\n",
       "      <th>patientunitstayid</th>\n",
       "      <th>drugorderoffset</th>\n",
       "      <th>drugstartoffset</th>\n",
       "      <th>drugivadmixture</th>\n",
       "      <th>drugordercancelled</th>\n",
       "      <th>drugname</th>\n",
       "      <th>drughiclseqno</th>\n",
       "      <th>dosage</th>\n",
       "      <th>routeadmin</th>\n",
       "      <th>frequency</th>\n",
       "      <th>loadingdose</th>\n",
       "      <th>prn</th>\n",
       "      <th>drugstopoffset</th>\n",
       "      <th>gtc</th>\n",
       "    </tr>\n",
       "  </thead>\n",
       "  <tbody>\n",
       "    <tr>\n",
       "      <th>0</th>\n",
       "      <td>7426715</td>\n",
       "      <td>141168</td>\n",
       "      <td>309</td>\n",
       "      <td>666</td>\n",
       "      <td>No</td>\n",
       "      <td>No</td>\n",
       "      <td>METOPROLOL TARTRATE 25 MG PO TABS</td>\n",
       "      <td>2102.0</td>\n",
       "      <td>25 3</td>\n",
       "      <td>PO</td>\n",
       "      <td>Q12H SCH</td>\n",
       "      <td>NaN</td>\n",
       "      <td>No</td>\n",
       "      <td>1826</td>\n",
       "      <td>0</td>\n",
       "    </tr>\n",
       "    <tr>\n",
       "      <th>1</th>\n",
       "      <td>9643232</td>\n",
       "      <td>141168</td>\n",
       "      <td>1847</td>\n",
       "      <td>1832</td>\n",
       "      <td>No</td>\n",
       "      <td>No</td>\n",
       "      <td>3 ML  -  IPRATROPIUM-ALBUTEROL 0.5-2.5 (3) MG/...</td>\n",
       "      <td>NaN</td>\n",
       "      <td>3 1</td>\n",
       "      <td>NEBULIZATION</td>\n",
       "      <td>Q4H Resp PRN</td>\n",
       "      <td>NaN</td>\n",
       "      <td>Yes</td>\n",
       "      <td>2047</td>\n",
       "      <td>0</td>\n",
       "    </tr>\n",
       "    <tr>\n",
       "      <th>2</th>\n",
       "      <td>10270090</td>\n",
       "      <td>141168</td>\n",
       "      <td>296</td>\n",
       "      <td>1386</td>\n",
       "      <td>No</td>\n",
       "      <td>No</td>\n",
       "      <td>ASPIRIN EC 81 MG PO TBEC</td>\n",
       "      <td>1820.0</td>\n",
       "      <td>81 3</td>\n",
       "      <td>PO</td>\n",
       "      <td>Daily</td>\n",
       "      <td>NaN</td>\n",
       "      <td>No</td>\n",
       "      <td>2390</td>\n",
       "      <td>0</td>\n",
       "    </tr>\n",
       "    <tr>\n",
       "      <th>3</th>\n",
       "      <td>9496768</td>\n",
       "      <td>141168</td>\n",
       "      <td>2048</td>\n",
       "      <td>2029</td>\n",
       "      <td>No</td>\n",
       "      <td>No</td>\n",
       "      <td>3 ML  -  IPRATROPIUM-ALBUTEROL 0.5-2.5 (3) MG/...</td>\n",
       "      <td>NaN</td>\n",
       "      <td>3 1</td>\n",
       "      <td>NEBULIZATION</td>\n",
       "      <td>Q4H Resp PRN</td>\n",
       "      <td>NaN</td>\n",
       "      <td>Yes</td>\n",
       "      <td>2390</td>\n",
       "      <td>0</td>\n",
       "    </tr>\n",
       "    <tr>\n",
       "      <th>4</th>\n",
       "      <td>11259680</td>\n",
       "      <td>141168</td>\n",
       "      <td>117</td>\n",
       "      <td>246</td>\n",
       "      <td>No</td>\n",
       "      <td>No</td>\n",
       "      <td>ENOXAPARIN SODIUM 40 MG/0.4ML SC SOLN</td>\n",
       "      <td>NaN</td>\n",
       "      <td>40 3</td>\n",
       "      <td>SC</td>\n",
       "      <td>Daily</td>\n",
       "      <td>NaN</td>\n",
       "      <td>No</td>\n",
       "      <td>1721</td>\n",
       "      <td>0</td>\n",
       "    </tr>\n",
       "  </tbody>\n",
       "</table>\n",
       "</div>"
      ],
      "text/plain": [
       "   medicationid  patientunitstayid  drugorderoffset  drugstartoffset  \\\n",
       "0       7426715             141168              309              666   \n",
       "1       9643232             141168             1847             1832   \n",
       "2      10270090             141168              296             1386   \n",
       "3       9496768             141168             2048             2029   \n",
       "4      11259680             141168              117              246   \n",
       "\n",
       "  drugivadmixture drugordercancelled  \\\n",
       "0              No                 No   \n",
       "1              No                 No   \n",
       "2              No                 No   \n",
       "3              No                 No   \n",
       "4              No                 No   \n",
       "\n",
       "                                            drugname  drughiclseqno dosage  \\\n",
       "0                  METOPROLOL TARTRATE 25 MG PO TABS         2102.0   25 3   \n",
       "1  3 ML  -  IPRATROPIUM-ALBUTEROL 0.5-2.5 (3) MG/...            NaN    3 1   \n",
       "2                           ASPIRIN EC 81 MG PO TBEC         1820.0   81 3   \n",
       "3  3 ML  -  IPRATROPIUM-ALBUTEROL 0.5-2.5 (3) MG/...            NaN    3 1   \n",
       "4              ENOXAPARIN SODIUM 40 MG/0.4ML SC SOLN            NaN   40 3   \n",
       "\n",
       "     routeadmin     frequency  loadingdose  prn  drugstopoffset  gtc  \n",
       "0            PO      Q12H SCH          NaN   No            1826    0  \n",
       "1  NEBULIZATION  Q4H Resp PRN          NaN  Yes            2047    0  \n",
       "2            PO         Daily          NaN   No            2390    0  \n",
       "3  NEBULIZATION  Q4H Resp PRN          NaN  Yes            2390    0  \n",
       "4            SC         Daily          NaN   No            1721    0  "
      ]
     },
     "execution_count": 7,
     "metadata": {},
     "output_type": "execute_result"
    }
   ],
   "source": [
    "eicu_meds = pd.read_csv(os.path.join(input_dir, 'eicu/medication.csv'), nrows=10000)\n",
    "eicu_meds.head()"
   ]
  },
  {
   "cell_type": "code",
   "execution_count": 8,
   "metadata": {},
   "outputs": [
    {
     "data": {
      "text/plain": [
       "'\\ninput args : src, code_type -> file\\nfile -> data load, dictionary_file, issue_map\\n'"
      ]
     },
     "execution_count": 8,
     "metadata": {},
     "output_type": "execute_result"
    }
   ],
   "source": [
    "'''\n",
    "input args : src, code_type -> file\n",
    "file -> data load, dictionary_file, issue_map\n",
    "'''"
   ]
  },
  {
   "cell_type": "markdown",
   "metadata": {},
   "source": [
    "# Input args"
   ]
  },
  {
   "cell_type": "markdown",
   "metadata": {},
   "source": [
    "# Preprocessing for files"
   ]
  },
  {
   "cell_type": "code",
   "execution_count": 9,
   "metadata": {
    "scrolled": true
   },
   "outputs": [],
   "source": [
    "def pre_processing_1st(src, item, file, columns_map ,mimic_dictionary_file):\n",
    "        print('preprocessing.. {}_{}_{} start!'.format(src,item,file))\n",
    "        data = data_init(file, src, item)\n",
    "        df, cohort = data()\n",
    "        list_prep = list_preparation(df, cohort, src, item, file)\n",
    "        pickle_cohort= list_prep()\n",
    "        #cohort to pickle\n",
    "        pickle_cohort.to_pickle(os.path.join(output_dir,'{}_{}_{}_init.pkl'.format(src,item,file)))  \n",
    "        print('preprocessing.. {}_{}_{} finish!'.format(src,item,file))"
   ]
  },
  {
   "cell_type": "markdown",
   "metadata": {},
   "source": [
    "# Preprocess"
   ]
  },
  {
   "cell_type": "code",
   "execution_count": 10,
   "metadata": {},
   "outputs": [],
   "source": [
    "class data_init():\n",
    "    def __init__(self, file:str, src:str, item:str):\n",
    "        self.file = file\n",
    "        self.src = src\n",
    "        self.item = item\n",
    "        self.input_folder = os.path.join(input_dir,src)\n",
    "        df_path = os.path.join(self.input_folder,file+'.csv')\n",
    "        cohort_path = os.path.join(cohort_dir, src+'_cohort.pk')\n",
    "        \n",
    "        # Read in cohort pickle and appropriate csv file\n",
    "        self.cohort = pd.read_pickle(cohort_path).reset_index(drop=True)\n",
    "        print('cohort load finish!')\n",
    "        self.df = pd.read_csv(df_path)\n",
    "        print('csv file load finish!')\n",
    "        if self.src == 'mimic':\n",
    "            self.cohort=self.cohort.rename({'HADM_ID':'ID'},axis='columns') # rename ID columns in pickle as needed\n",
    "        elif self.src == 'eicu':\n",
    "             self.cohort=self.cohort.rename({'patientunitstayid':'ID'},axis='columns')\n",
    "        \n",
    "    def column_rename(self, df):      # for similar col names\n",
    "        df = df.rename(columns_map[self.file], axis='columns')\n",
    "        return df                          \n",
    "        \n",
    "    def cohort_filtering(self, df):    # take only the observations from the .csv file which are in the cohort\n",
    "        df_id=df['ID']\n",
    "        cohort_id=self.cohort['ID']\n",
    "        df = df[df_id.isin(cohort_id)].reset_index(drop=True)\n",
    "        \n",
    "        cohort = self.cohort[cohort_id.isin(df_id)].reset_index(drop=True) # drop cohort obs which !in(csv)\n",
    "    #    df.replace(' ', '_', regex=True, inplace=True) <-- earlier preprocessing code?\n",
    "       \n",
    "        if 'ICUSTAY_ID' in df.columns: # drop all with missing ICUSTAY_ID (mimic)\n",
    "            df = df.loc[df['ICUSTAY_ID'].isnull()==False].reset_index(drop=True)\n",
    "        if 'start_time' in df.columns: # if null end_time, input start_time (from e.g. mimic prescriptions)\n",
    "            indexes = df[df['end_time'].isnull()==True]['start_time'].index\n",
    "            df['end_time'][indexes] = df[df['end_time'].isnull()==True]['start_time']\n",
    "        df.fillna('null', inplace=True)\n",
    "        return df, cohort\n",
    "    \n",
    "    \n",
    "    def issue_delete(self, df): # e.g. drop if 'order_cancelled'==yes in eicu medications\n",
    "        if 'issue' in df.columns:\n",
    "            issue_label = issue_map[self.file]\n",
    "            df.drop(df[df['issue'].isin(issue_label)].index, inplace=True)\n",
    "        return df\n",
    "    \n",
    "    def name_dict(self, df): # for mimic files, create code_name from appropriate dictionary file (key e.g. ICD9)\n",
    "        if self.file in mimic_dictionary_file:\n",
    "            dict_name=mimic_dictionary_file[self.file]\n",
    "            dict_path = os.path.join(self.input_folder, dict_name+'.csv')\n",
    "            code_dict = pd.read_csv(dict_path)\n",
    "            if dict_name in ['D_ICD_DIAGNOSES', 'D_ICD_PROCEDURES']:\n",
    "                key = code_dict['ICD9_CODE']\n",
    "                value = code_dict['LONG_TITLE']\n",
    "            else:\n",
    "                key = code_dict['ITEMID']\n",
    "                value = code_dict['LABEL']\n",
    "            code_dict = dict(zip(key,value))\n",
    "            df['code_name'] = df['code_name'].map(code_dict)\n",
    "        return df          \n",
    "                \n",
    "    def __call__(self):        \n",
    "        print('column_rename start!')\n",
    "        df = self.column_rename(self.df)\n",
    "        print('column_rename finish!')\n",
    "        print('cohort_filtering start!')\n",
    "        df, cohort = self.cohort_filtering(df)\n",
    "        print('cohort_filtering finish!')\n",
    "        print('issue_delete start!')\n",
    "        df = self.issue_delete(df)\n",
    "        print('issue_delete finish!')\n",
    "        if self.src == 'mimic':\n",
    "            print('name_dict start!')\n",
    "            df = self.name_dict(df)\n",
    "            print('name_dict finish!')\n",
    "        return df, cohort"
   ]
  },
  {
   "cell_type": "code",
   "execution_count": 11,
   "metadata": {},
   "outputs": [
    {
     "data": {
      "text/plain": [
       "'\\nInput : argument -> output : df, cohort\\nprocessing:\\ncolumn_rename-> cohort_filtering -> issue_delete -> if mimic, name_dict -> df, cohort\\n'"
      ]
     },
     "execution_count": 11,
     "metadata": {},
     "output_type": "execute_result"
    }
   ],
   "source": [
    "'''\n",
    "Input : argument -> output : df, cohort\n",
    "processing:\n",
    "column_rename-> cohort_filtering -> issue_delete -> if mimic, name_dict -> df, cohort\n",
    "'''"
   ]
  },
  {
   "cell_type": "markdown",
   "metadata": {},
   "source": [
    "Example: \n"
   ]
  },
  {
   "cell_type": "code",
   "execution_count": 12,
   "metadata": {},
   "outputs": [
    {
     "name": "stdout",
     "output_type": "stream",
     "text": [
      "cohort load finish!\n"
     ]
    },
    {
     "name": "stderr",
     "output_type": "stream",
     "text": [
      "/Users/Wesley/opt/anaconda3/lib/python3.8/site-packages/IPython/core/interactiveshell.py:3263: DtypeWarning: Columns (7,9,17,20,21) have mixed types.Specify dtype option on import or set low_memory=False.\n",
      "  if (await self.run_code(code, result,  async_=asy)):\n"
     ]
    },
    {
     "name": "stdout",
     "output_type": "stream",
     "text": [
      "csv file load finish!\n",
      "column_rename start!\n",
      "column_rename finish!\n",
      "cohort_filtering start!\n",
      "cohort_filtering finish!\n",
      "issue_delete start!\n",
      "issue_delete finish!\n",
      "name_dict start!\n",
      "name_dict finish!\n"
     ]
    }
   ],
   "source": [
    "# for example's sake:\n",
    "columns_map = mimic_columns_map\n",
    "data_ex = data_init('INPUTEVENTS_CV', 'mimic', 'inf')\n",
    "df_ex, cohort_ex = data_ex()"
   ]
  },
  {
   "cell_type": "code",
   "execution_count": 13,
   "metadata": {
    "scrolled": true
   },
   "outputs": [
    {
     "data": {
      "text/plain": [
       "array(['Po Intake', 'D5W', 'Lactated Ringers', 'IV Piggyback',\n",
       "       '.9% Normal Saline', 'Carrier', 'TF Residual', 'OR Crystalloid',\n",
       "       'PACU Crystalloids', 'OR Colloid', 'OR Autologous Blood',\n",
       "       'D5/.45NS', 'Vivonex', 'Sterile Water', nan, \"Packed RBC's\",\n",
       "       'Dextrose 10%', '.45% Normal Saline', 'D5NS', 'Gastric Meds',\n",
       "       'Pre-Admission Intake', 'PACU Colloids', 'OR FFP',\n",
       "       'Fresh Frozen Plasma', \"OR Packed RBC's\", 'Nepro', 'Platelets',\n",
       "       'PPN', 'TPN', 'Replete w/fiber', 'TPN w/Lipids', 'Cath Lab Intake',\n",
       "       'Replete', 'D5 Ringers Lact.', 'D5 Normal Saline',\n",
       "       'Impact w/fiber', 'OR Platelets', 'D5RL', 'Albumin 5%',\n",
       "       'Whole Blood', 'Deliver 2.0', 'Albumin 25%', 'Lipids', 'Ultracal',\n",
       "       'Hespan', 'Free Water Bolus', 'Peptamen', 'Tube Feeding',\n",
       "       'GT Flush', 'Fentanyl Base', 'Cell Saver', 'Cryoprecipitate',\n",
       "       'Isocal HN', \"Washed PRBC's\", 'Respalor', 'Promote w/fiber',\n",
       "       'Criticare HN', '3% Normal Saline', 'Promote',\n",
       "       'Other Blood Products', 'Normal Saline_GU', 'Ampho-B_GU',\n",
       "       'D5/.2NS', 'Dextrose 20%', 'Boost', 'Aminosyn 3.5%',\n",
       "       'Sterile H20_GU', 'Supplement', '.25% Normal Saline', 'Boost Plus',\n",
       "       'Factor VIII', 'D5 Aminosyn 3.5%', 'Optimental',\n",
       "       '.3% normal Saline', 'Nutrihep', 'Boost High Protein', 'Other_GU',\n",
       "       'ProBalance', 'Nutren 2.0', 'Nutren Pulmonary', 'Nutren Renal',\n",
       "       'Heparin', 'Diltiazem', 'Ativan', 'Fentanyl', 'Doxacurium',\n",
       "       'Vasopressin', 'Levophed', 'Morphine Sulfate', 'Propofol',\n",
       "       'Nitroglycerine', 'Dopamine', 'Midazolam', 'KCL', 'Dobutamine',\n",
       "       'Labetolol', 'Nitroglycerine-k', 'Lasix', 'Folate', 'MVI',\n",
       "       'Thiamine', 'Amiodarone', 'Neosynephrine', 'Calcium Gluconate',\n",
       "       'Fentanyl (Conc)', 'Promod', 'Sodium Bicarbonate',\n",
       "       'Magnesium Sulfate', 'Potassium Phosphate', 'Esmolol', 'Ensure',\n",
       "       'Insulin', 'Neosynephrine-k', 'Nitroprusside', 'Dilaudid',\n",
       "       'Aggrastat', 'Pentobarbitol', 'Amphotericin B', 'TPA',\n",
       "       'Sandostatin', 'Milrinone', 'Vecuronium', 'Impact', 'Atracurium',\n",
       "       'Levophed-k', 'Narcan', 'Epinephrine', 'Lidocaine',\n",
       "       'Aminophylline', 'Calcium Chloride', 'Peptamen 1.5', 'Ensure Plus',\n",
       "       'Integrelin', 'Cisatracurium', 'HCL', 'Pancuronium', 'Natrecor',\n",
       "       'Amicar', 'Regular Insulin', 'Ketamine', 'Epinephrine-k',\n",
       "       'Precedex', 'Solumedrol', 'Procainamide', 'Argatroban',\n",
       "       'Lepirudin', 'Nicardipine', 'Ferrous Sulfate', 'Alcohol 10%',\n",
       "       'Haldol', 'Xigris', 'Bivalirudin', 'Amrinone', 'BICARBONATE-HCO3',\n",
       "       'foley flush', 'bolus', 'Blood from oral sx', 'BOLUS', 'methadone',\n",
       "       'MgSO4     20gm/500cc', 'BLADDER PRESSURE FLD', 'Plasmalyte',\n",
       "       'ns bolus', '3/4 str Impact w/fib', 'Oral Contrast',\n",
       "       'Vancomycin enema', 'oxytocin 10 units/LR', 'enema', 'OR INTAKE',\n",
       "       'Mannitol 50Gm/250mL', 'phenobarbital', 'free water boluses',\n",
       "       'FLOOR INTAKE', 'TOTAL IN ON PAPER CT', 'lacutlose enema',\n",
       "       'Pantoprazole', 'go-lytly', 'hemo dial ultrafil', 'PROTONIX',\n",
       "       'POTASSIUM CHLOR 10MQ', 'D10, 1/2NS', 'groin bag',\n",
       "       'NS rescue flush', 'pantoprazole', 'Acetylcysteine', 'octreotide',\n",
       "       'Protonix gtt', 'capd dialysate', 'Mucomyst', 'dialysate in',\n",
       "       'cyclosporine', 'cyclosporin', 'PROTONIX MG/HR', 'oral',\n",
       "       'protonix', 'Cyclosporine', 'ed ivf', 'blakemore', 'PD Dialysate',\n",
       "       'rescue flush', 'RESCUE LINE', 'Free Water', 'pantopralole',\n",
       "       'plueral fluid', 'versed drip', 'H20 BOLUS VIA NG', 'EW',\n",
       "       'Bicarb gtt', 'Xygris', 'flolan', 'Promote with fiber', 'Altepase',\n",
       "       '7 feldberg  iv', 'R groin bag', 'Cyclosporin', 'HD', 'KPhos',\n",
       "       'sodium phosphate', 'ALBUMIN', 'kvo', 'CHEMO:Alb w/ Sargram',\n",
       "       'Rescue Flush', 'contrast po', 'Cladribine', 'PD catheter',\n",
       "       'Pigtail Flush', 'IR blood products', 'IR intake', 'study drug',\n",
       "       'golytle', 'NS bladder pressure', 'nicardipine HCL', 'mucomyst',\n",
       "       'C.O.', 'protonix gtt cc/hr', 'TF PROBALANCE', 'ivf boluses', 'hd',\n",
       "       'xygris', '40k/500ns', 'D5W 50 meq Ca Acetat',\n",
       "       'd5w&25meqk+acetate', 'Dialysate Instilled', 'Thorancentisis',\n",
       "       'Kayoxalate Enema', 'glucagon', 'Protonix', '2/3 str impact/fiber',\n",
       "       'OR/PACU', 'Pigtail flush', 'SODIUM PHOS', 'free water',\n",
       "       'NS bolus', 'IV Bolus', 'fluid bolus', 'NS BOLUS',\n",
       "       'Pamidronate        l', 'Flolan', 'dialysate 1.5% dex',\n",
       "       'replete full strengh', 'JT in', 'Pheresis', 'free h20 bolus',\n",
       "       'Rifampin', 'kayexalate pr', 'cisatricurium', 'nabicarb 250/1000',\n",
       "       'QUINIDINE', 'ER FLUIDS', 'KPHOS', 'acetylcysteine',\n",
       "       '250 n/s 15MML NAPHOS', 'baricat', '3%CITRATE DEXTROSECF',\n",
       "       'Rituximab 50mg/hr', 'Mushroom catheter', 'farr7 intake-iv',\n",
       "       'R Groin site', 'peri pad change', 'PO contrast',\n",
       "       '0.45%ns + 20 meq kcl', '0.45%NS +40meq kcl', '0.45% + 60 MEQ KCL',\n",
       "       'D50.45%NS + 60MQ KCL', 'bx site', 'Flowlan', 'PD solution in',\n",
       "       'pantaprazole', 'Octrietide', 'vaginal bleeding', 'Citrate',\n",
       "       'kphos', 'Soduim Phosphate', 'ascites fluid bag',\n",
       "       'CHEMO:Cytarabine', 'Cyclospoprin', 'gu irrigant', 'famotidine',\n",
       "       'PERITONEAL FLUID', 'Bannana Bag', 'PD IN', 'Sodium Phosphate',\n",
       "       'Calcium chloride IVP', 'sodium bicarb IVP', 'plasmaphoresis',\n",
       "       'nicardipine drip', 'OR INPUT CRYSTALLOID', 'Soduim Phospate',\n",
       "       '1/2STR. IMPACT + FIB', 'free water infusion', 'bile replacement',\n",
       "       'bile refeed', '1/2 ns bolus', 'NS w/ 40K', 'Kphos',\n",
       "       'CAPD dialysate dwell', 'CT prep', 'JT bile', 'HD fluid removal',\n",
       "       'Vanco Enema', 'blood loss', 'farr 2 intake', 'golytely',\n",
       "       'free h2o bolus', 'Water bolus', 'CO Fluid', 'D50', 'er ivf', 'ng',\n",
       "       'Novasource', 'D5 0.45N/S+NAHCO3', '1/2cc:cc 0.45% NS', 'citrate',\n",
       "       'Acetylcystein', 'GOLYTELY', 'Breast pump', 'dialysate 2.5% in',\n",
       "       'vag/peri', 'Thoracentisis', 'Phoresis intake', 'Nutren',\n",
       "       'N/S +KCL 40MEQ', 'dexmedetomidine', 'PD', 'THAM', 'Kphos 30mmol',\n",
       "       'protonix gtt', 'replete w/fiber 3/4', 'bile', 'abd wound',\n",
       "       'N/S +30MMOL KPO4', 'Open ABD wound', 'magnesium',\n",
       "       'HYDROCHLORIDE ACID G', '.5:1 NS REPLETION', '1:1 NS Repletion.',\n",
       "       'R groin', '0.5:1 U/O REPLETION', '1/2st impact/fiber', 'contrast',\n",
       "       '15 mMol KPhos', 'diaphoresis', 'kayexalate PR', 'pad changes',\n",
       "       'dialysate', '15 MM NA PHOSPHATE', 'Protonix Drip', 'APC',\n",
       "       'CT # 6 & # 2 RT', 'ENDOSCOPY', 'ENEMA', 'ED intake',\n",
       "       'ORAL SECRETION', 'PD dialysate in', 'Peritoneal fluid',\n",
       "       'from cc7', 'Bicarb', 'Peritoneal Fluid', 'PARACENTISIS',\n",
       "       'Lactulose Enema', 'octreotride', 'ATG', 'N/S  K PHOS 30MMOL',\n",
       "       'rl bolus', 'N/S WITH 40MEQ OF KL', 'rep.+dialysate',\n",
       "       'pre admission intake', 'c.o.', 'L neck mass aspirate', 'st cath',\n",
       "       'GASTROGRAFFIN', 'fl bolus', 'void', 'water flush',\n",
       "       'THOROCENTISIS', 'EW intake', 'K phos', 'GoLytely',\n",
       "       'FoleyIrrigant', 'Hemoccult', 'contrast via ng', 'GO LYTELY',\n",
       "       'iv fluid in er', 'Barocet', '3/4 IMPACT W/ FIBER',\n",
       "       'Sodabicarb Drip.', 'Lactulose enema', 'chemo ara-c',\n",
       "       'QUINIDINE GLUCONATE', 'R side pleuracent', 'bicarb drip',\n",
       "       'Fleet Enema', 'K Phos', 'water bolus', 'READYCAT',\n",
       "       'gastrograffin', 'ns w/ 15mmol na+ phs', 'nicardipine gtt',\n",
       "       'epidural', 'Free H20', 'FLOLAN', 'Dialysate IN', 'Nutren 3/4str',\n",
       "       '50%Dextrose', 'NS Insulin Carrier', 'dextrose gtt',\n",
       "       'peritoneal fluid', 'isoproterenolmcg/min', 'Protonix IV',\n",
       "       'ERCP IV intake', 'banana bag', 'ew ivf', 'go-lytely', 'injectate',\n",
       "       'Glucagon Gtt', 'methodone', '3/4 IMPACT/FIBER',\n",
       "       'K-Acetate 40mEq/250', 'CAPD efluent', 'TOTAL IN FROM PAPERT',\n",
       "       'steril water', 'Gu irrigant', 'readi-ct', 'Replete w/fiber FS',\n",
       "       'PROTONIX GTT', 'Water', '1/2 str NEPRO', 'kayexolate PR',\n",
       "       'NS with Pit 20units', 'probalance fs', 'floor intake',\n",
       "       'fluid bolus ns', 'hemopytsis', 'Left Hip Aspiration',\n",
       "       'right abdomen', 'GO-LYTELY', 'paracentisis',\n",
       "       'ABDOMINAL SECRETIONS', 'r fem puncture site', 'er ns',\n",
       "       'verapamil', 'GoLYTELY', 'OB pad', 'ns fluid bolus',\n",
       "       'protonix 8mg/250', 'NS 4gr Ca Gluconate', '21mM Potassium Phos',\n",
       "       'NS with 4 gr Ca Gluc', 'ns .9% bolus', 'PD INFUSED',\n",
       "       'ampho bladder wash', 'farr7 lower abd drai',\n",
       "       'farr7 upper abd drai', 'pheresis pos balanc', 'ew uo',\n",
       "       'NS/PITOCIN 20U', 'mushroom cath', 'golytely prep', 'C.O', 'MgSO4',\n",
       "       'c.0. fluid', '500ns/40meqkcl', 'radiographin', 'co injectate',\n",
       "       'Pantoprazole 8mg/hr', 'rescue line flush', 'MUCOMYST',\n",
       "       'N/S + VINCRISTINE', 'potassium phos', 'left arm bag #1',\n",
       "       'Dextrose 15%', 'pheresis', 'Free H20 bolus', 'right arm bag #1',\n",
       "       'NS for BT', 'ct contrast', 'barracat', 'ns b', 'mannitol', 'KVO',\n",
       "       'Mucamyst.', 'bicarbonate', 'pantoprazole 8mg/hr',\n",
       "       'Sodabicarb Drip', 'readi cat', 'GT to gravity', 'albumin',\n",
       "       'Lactulose PR', 'EBL', 'epidural-marcaine', 'epidural asp',\n",
       "       'r femoral puncture', 'ascites fld', 'K PHOS 15 MMOL', 'vag bld',\n",
       "       'NS Bolus', 'THAM (30 meq=100cc)', 'readycat', 'ebl',\n",
       "       'CVVHD NS line flush', 'tranexamic acid', 'thoracentisis',\n",
       "       'Octreotide', 'Glucagon infusion', 'FLUID BOLUS', 'Mucamyst iv.',\n",
       "       'readi - cat', 'D5W WITH BICARB', 'lr with pictocin',\n",
       "       'uo on floor', '#3 CT-POSTERIOR', 'N/S +ETOPOSIDE', 'ED INTAKE',\n",
       "       'mycomust', 'pamidrinate in ns', 'BAROCAT', 'hd off', 'IR IN',\n",
       "       'pigtail flush', 'P.D. In', 'Multivitamin', 'D5W 150meq NAHCO3',\n",
       "       'golytlely', 'NA PHOS 15MMOL', 'Ara-c chemo gtt', 'farr 2 ivf',\n",
       "       'NaPhos', 'Calcium gluc gtt', 'phoresis', 'er crystalloid',\n",
       "       'soap suds enema', 'blood', 'OCTREOTIDE MCG/HR', 'rectal bag',\n",
       "       'kcl 20 meq ivpb', 'IR Intake', 'Banana bag', 'golytle prep',\n",
       "       'FREE WATER BOLUSES', 'iv contrast', 'PHERESIS',\n",
       "       'supra pubic flush', 'K+ Phos', 'thoracen fluid', 'Bari-cat',\n",
       "       'HD putback', 'redicat', 'iv intake in angio', 'FREE H20 BOLUS',\n",
       "       'na phosphate in ns', 'baricat ct contrast', 'OR Ascites',\n",
       "       'Plasma-lyte', 'Ascites', 'lactulose enema', 'parencentis.',\n",
       "       'Pantoprazole gtt', 'bicarb', 'dialysate 2.5%', 'Vanco Enema In:',\n",
       "       'Gastro Graphin', 'ivf on floor', 'ER', 'Nesiritide',\n",
       "       'peripad count.', 'medical floor ivf', 'iv fluids on floor.',\n",
       "       'peritoneal dialysate', 'k phos', 'NG aspirate', 'EBL(OR)',\n",
       "       'iv fluid from osh', 'nsbolus', 'PLASMAPHERESIS', 'PLASMAPHORESIS',\n",
       "       'bal cctn', 'EW IVF', 'readicat contrast', 'Angion intake',\n",
       "       'PD Intake', 'PD intake', 'Vaginal and Back Wnd', 'gastrografin',\n",
       "       'EBL FROM OR', 'KAYEXALATE', 'LACTULOSE PR', 'D5W w/40meq K',\n",
       "       '0.9%NS with 40KCL', 'Albumin', 'pantoprazole mg/hr', 'OR cryo',\n",
       "       'PD fluid in', 'ED Intake', 'bowel prep', 'DYE IV contrast CT n',\n",
       "       'ns pr              e', 'PANTOPRAZOLE', 'plural fluid',\n",
       "       'vac cannister', 'resue flush', 'acetylcystein', 'sp aspirate',\n",
       "       'protonix infusion', 'cardiac ouput fluid', 'D51/4 w/40meq Kcl',\n",
       "       'iv bolus', 'D5 0.25%NS 20mEq KCl', 'ep intake', 'CHEMOTHERAPY',\n",
       "       'NS with Folic Acid', 'PD total', 'bowel movement', 'na phosphate',\n",
       "       'EMERGENCY DEPT', 'Potassium 20meqIVPB', '15 MMOL NaPHOS', 'IVIG',\n",
       "       'Verapamil', 'Verapamil drip', 'ANCEF IRRIGATION', 'Magnesium',\n",
       "       'thermodilution fluid', 'calcium', 'left arm bag #2', 'pad',\n",
       "       'PERI PAD', 'protonix drip', 'left arm bag', 'ed intake',\n",
       "       'thorocentisis', 'str. cath', 'Protonix mg/hr', 'free H20',\n",
       "       'free h20', 'sodiumbicarb 100meq', 'RL BOLUS', 'Na Phosphate',\n",
       "       'ns bladder', 'NS fluid boluses', 'CSF needle aspirate',\n",
       "       '2.5% dialysate in', 'free h2o boluses', 'capd', 'before icu ns',\n",
       "       'NS IV bolus', 'free water bolous', 'bumex',\n",
       "       'd5w & 6gm ca+ glucon', 'pre arrival ivf', 'N/S+KPO4 15MMOL',\n",
       "       'NS FLUID BOLUS', 'enema-lactulose', 'irrig for bldr press',\n",
       "       'po contrast', 'reaadicat', 'N/S +KCL 20MEQ',\n",
       "       'mvi,thiam, folic d5w', 'FREE H20 NG', 'Free H2O', 'Panidronate',\n",
       "       'BLADDER PRESSURE', \"LACTULOSE ENEMA'S\", 'vassopressin',\n",
       "       'plasma pheresis', 'IGG', 'potassium', 'pharesis fluids',\n",
       "       'H20 BOlus', 'D5W/0.9NS with meds', 'KCL 40 MEQ IN 500MLS',\n",
       "       'redi cat', '30 mmol kphos/500ccw', 'Peritoneal dial in',\n",
       "       'Hemo Vol', 'Sodium Phosphate IV', 'IVF AT OSH',\n",
       "       'r leg leaking fluid', 'd5w 10gm ca+ glucon', 'Angio IVF',\n",
       "       'ascites', 'floor iv intake', 'mucomist', 'iv fluid since mn',\n",
       "       'Lactulose300mg/NS700', 'total intake since n',\n",
       "       'input from midnight', 'i&o by paper', 'uo since mn',\n",
       "       'dialysate 4.25%', 'frfee water boluses', 'pheresis net bal',\n",
       "       'ED IVF', 'Water NG flush', 'protonix gtt 8mg/hr', 'pad change',\n",
       "       'foley irrigation', '1:1 U/O REPLETION', 'ivf on medical floor',\n",
       "       '1.5% dialysate', 'CONTRAST via NG', 'LACTULOSE/Kayexalate',\n",
       "       'H2O Flushes', 'Pheresis Balance', 'BRBPR', 'Angio contrast',\n",
       "       'Bicarb Drip', 'Enema', 'SODABICARB DRIP', 'bolus ns',\n",
       "       'Readi-Cat 2', 'collection bag', 'Baricat', 'Replete with Fiber.',\n",
       "       '.45NS BOLUS', 'PD ouput', 'Kcl 40meq in 500 N/S', 'N/S + KPO4',\n",
       "       'IVF ON FLOOR', 'er intake', 'Golytely', 'peritoneal puncture',\n",
       "       'CC7 Intake', 'mushroom catheter', 'ice chips', 'alteplase',\n",
       "       'Pantroprazole', 'Calcium', 'osh ivf of ns', 'pd fluid in',\n",
       "       'Nutren Pulmonary FS', 'Oral', 'mesan', 'thoracentecis', 'HD off',\n",
       "       'cath lab', 'N/S + K 40 MEQ', 'D5W +3 Amps NaHco3', 'ed uo',\n",
       "       'Kcl 40 meq in 1/2N/S', 'PD exchange 2.5%', 'ca gluconate',\n",
       "       '500cc ns bolus', 'WaterBolus', 'Rescue line', 'Fluid Bolus',\n",
       "       'REDICAT for CTabd', 'NS Filter Flush', 'free water bolus.',\n",
       "       'colloids in angio', 'crystalloids in ango', 'readi-cat',\n",
       "       'IVF IN ERCP', 'doxorubicin', 'potasium', 'protonix 80mg/250cc',\n",
       "       'NaCl 500+Kcl 40', 'Rectal EBL', 'ed foley', 'PD fluid',\n",
       "       'THORACASENTESIS', 'Baracat', 'Bari-Cat', 'ns boluses',\n",
       "       'Tap Water Enema', 'rituximab', 'phresis intake',\n",
       "       'or cryoprecipate', 'or plasmalyte', '12 resiman ivf',\n",
       "       'mucous bag', 'paracenthesis', 'replete/fiber', 'nutren',\n",
       "       '500N/S 40meq K+', '1/4 NS', 'ns fluid boluses', 'paracentsis',\n",
       "       '500 cc ns bolus', 'N/S +15 MMOL Na phos', 'Taxol',\n",
       "       'Potassium Chloride', ']readi-cat', 'Sodium Phos 30mmol',\n",
       "       'Mushroom cath', 'vaginal staining', 'iv upon arrival',\n",
       "       'ns ivfin ed', 'multivitamins', 'Bladder transd.',\n",
       "       '12 reisman ivf', 'NaHcO3 150meq in D5W', 'Farr 5 IV', 'Farr 5 po',\n",
       "       'Free H20 intake', 'Emema', 'plasmapheresis', 'flushback',\n",
       "       'net pheresis intake', 'OR Intake', 'Banana Bag'], dtype=object)"
      ]
     },
     "execution_count": 13,
     "metadata": {},
     "output_type": "execute_result"
    }
   ],
   "source": [
    "df_ex['code_name'].unique()"
   ]
  },
  {
   "cell_type": "markdown",
   "metadata": {},
   "source": [
    "Back to Code"
   ]
  },
  {
   "cell_type": "code",
   "execution_count": 15,
   "metadata": {},
   "outputs": [],
   "source": [
    "class list_preparation():\n",
    "    def __init__(self, df:pd.DataFrame, cohort:pd.DataFrame,  src:str, code:str, file:str):\n",
    "        self.file = file\n",
    "        self.df = df.reset_index(drop=True) # our filtered df, now with med names if needed\n",
    "        self.cohort = cohort\n",
    "        self.src = src\n",
    "        self.item = item\n",
    "        if src =='mimic':\n",
    "            self.INTIME = pd.to_datetime(self.cohort['INTIME']) # for manipulation later\n",
    "            self.OUTTIME = pd.to_datetime(self.cohort['OUTTIME']) \n",
    "#####################################################################################################   \n",
    "    def generate_offset(self, item_list:list, df):\n",
    "        '''\n",
    "        Input : time -> output : offset\n",
    "        (order_time - INTIME) and make time as min\n",
    "        \n",
    "        time_list : example [order_time, start_time, end_time ]\n",
    "        offset_list : ex [order_offset, start_offset, end_offset]\n",
    "        '''\n",
    "        self.cohort = self.cohort.reset_index(drop=True)\n",
    "        time_list = ['{}_time'.format(item) for item in item_list] \n",
    "        offset_list = ['{}_offset'.format(item) for item in item_list] # names of cols\n",
    "        offset_dict = {}\n",
    "        index_dict = {}\n",
    "        #Empty dict for offset, empty list for index\n",
    "        for idx, item_time in enumerate(time_list):    # time_list = [start_time, end_time] e.g. for PRESCRIPTIONS\n",
    "            df[item_time] = pd.to_datetime(df[item_time])\n",
    "            offset_dict[offset_list[idx]]=[]\n",
    "            index_list =[]\n",
    "        # from cohort ID, take INTIME\n",
    "        for row, ID in enumerate(notebook.tqdm(self.cohort['ID'])): # w/ progress bar\n",
    "            one_id_rows = df[df['ID']==ID]        \n",
    "            index_list.extend(list(one_id_rows.index)) # add index of one_id_rows\n",
    "            for idx, item_time in enumerate(time_list):\n",
    "                offset_series=one_id_rows[item_time].apply(lambda x: round((x-self.INTIME[row]).total_seconds()/60))               \n",
    "                offset_dict[offset_list[idx]].extend(list(offset_series))\n",
    "        \n",
    "        df= pd.concat([df, pd.DataFrame(offset_dict, index=index_list, columns=offset_list)], axis=1).reset_index(drop=True)\n",
    "        \n",
    "        return df        \n",
    "    \n",
    "    def time_filtering(self, item, df):\n",
    "        ''' \n",
    "        Input : time -> output : timne\n",
    "        time filtering by INTIME , OUTTIME\n",
    "        '''\n",
    "        series = pd.Series()\n",
    "        for row, ID in enumerate(notebook.tqdm(self.cohort['ID'])):\n",
    "            timestamp_in = self.INTIME[row]\n",
    "            timestamp_out = self.OUTTIME[row]\n",
    "            times = df.loc[df['ID'] == ID][item]  # from <  for item in ['start_time','end_time'] >\n",
    "            series = series.append((timestamp_in <= times) & (times <= timestamp_out)) # T/F\n",
    "        df = df.loc[series].reset_index(drop=True)\n",
    "        \n",
    "        return df\n",
    "############################################################################################################\n",
    "    \n",
    "    def charttime_offset(self, df):\n",
    "        if 'start_time' in df.columns:\n",
    "            df['order_time'] = pd.to_datetime(df['start_time']) #start_time 을 order_time으로\n",
    "            df = self.generate_offset(['order', 'start', 'end'], df)\n",
    "        \n",
    "        elif 'order_time' in df.columns:    \n",
    "            df = self.generate_offset(['order'], df)        \n",
    "        \n",
    "        return df.reset_index(drop=True)    \n",
    "       \n",
    "   \n",
    "    def time_filter(self, df):   \n",
    "        if self.src == 'mimic':\n",
    "            if 'start_time' in df.columns:\n",
    "                for item in ['start_time','end_time']:\n",
    "                    df[item] = pd.to_datetime(df[item])\n",
    "                    df = self.time_filtering(item, df)\n",
    "            elif 'order_time' in df.columns:\n",
    "                    df['order_time'] = pd.to_datetime(df['order_time'])\n",
    "                    df = self.time_filtering('order_time', df)          \n",
    "    \n",
    "        elif self.src == 'eicu': \n",
    "            if 'order_offset' in df.columns:\n",
    "                df = df.loc[df['order_offset'] >= 0].reset_index(drop=True)   \n",
    "            elif 'start_offset' in df.columns:\n",
    "                #start_offset -> order_offset copy\n",
    "                df = df.loc[df['start_offset'] >= 0].reset_index(drop=True)\n",
    "                df = df.loc[df['end_offset'] >= df['start_offset']].reset_index(drop=True)\n",
    "                df['order_offset'] = df['start_offset']\n",
    "                  \n",
    "        \n",
    "        return df.reset_index(drop=True)    \n",
    "\n",
    "    def list_make_sort(self, df):\n",
    "            cohort = self.cohort.reset_index(drop=True)  \n",
    "            columns = columns_map[self.file]\n",
    "            columns_names = [value for key, value in columns.items() if value not in ['order_offset','ID','order_time','issue']]\n",
    "            columns_names.append('order_offset') # take .csv file columns + order_offset\n",
    "            columns_dict = {}\n",
    "            for column in columns_names:\n",
    "                columns_dict[column]=[] # dictionary w/ column names as keys\n",
    "            for row, ID in enumerate(notebook.tqdm(self.cohort['ID'])):\n",
    "                one_id_rows = df.loc[df['ID']==ID] # take each ID\n",
    "                sort_by_offset = one_id_rows.sort_values(by='order_offset', ascending=True) # sort events by time since admission\n",
    "                for column in columns_names:\n",
    "                    columns_dict[column].append(list(sort_by_offset[column].values)) # append these as value list to key\n",
    "                \n",
    "            for column in columns_names:\n",
    "                list_column=columns_dict[column] # take the key:value pairs one by one \n",
    "                series_list = pd.Series(list_column) # make it a series \n",
    "                cohort[column] = series_list # append it to cohort dataframe as a new column w/ same name as in df\n",
    "            \n",
    "            return cohort\n",
    "    \n",
    "    def __call__(self):        \n",
    "        print('time_filter start!')\n",
    "        df = self.time_filter(self.df)\n",
    "        print('time_filter finished!')\n",
    "        if self.src == 'mimic':\n",
    "            print('charttime_offset start!')\n",
    "            df = self.charttime_offset(df)   \n",
    "            print('charttime_offset finished!')\n",
    "        print('list_make_sort start!')  \n",
    "        cohort = self.list_make_sort(df)\n",
    "        print('list_make_sort finished!')\n",
    "        return cohort"
   ]
  },
  {
   "cell_type": "code",
   "execution_count": 16,
   "metadata": {},
   "outputs": [
    {
     "data": {
      "text/plain": [
       "'\\nInput : df, cohort -> output : cohort\\nprocessing:\\nTime filter -> if mimic, charttime_offset -> list_make_sort -> cohort\\n'"
      ]
     },
     "execution_count": 16,
     "metadata": {},
     "output_type": "execute_result"
    }
   ],
   "source": [
    "'''\n",
    "Input : df, cohort -> output : cohort\n",
    "processing:\n",
    "Time filter -> if mimic, charttime_offset -> list_make_sort -> cohort\n",
    "'''"
   ]
  },
  {
   "cell_type": "code",
   "execution_count": 17,
   "metadata": {},
   "outputs": [
    {
     "name": "stdout",
     "output_type": "stream",
     "text": [
      "exist_files! []\n",
      "preprocessing.. mimic_lab_LABEVENTS start!\n",
      "cohort load finish!\n",
      "csv file load finish!\n",
      "column_rename start!\n",
      "column_rename finish!\n",
      "cohort_filtering start!\n",
      "cohort_filtering finish!\n",
      "issue_delete start!\n",
      "issue_delete finish!\n",
      "name_dict start!\n",
      "name_dict finish!\n",
      "time_filter start!\n"
     ]
    },
    {
     "name": "stderr",
     "output_type": "stream",
     "text": [
      "<ipython-input-15-5af1536fce82>:47: DeprecationWarning: The default dtype for empty Series will be 'object' instead of 'float64' in a future version. Specify a dtype explicitly to silence this warning.\n",
      "  series = pd.Series()\n"
     ]
    },
    {
     "data": {
      "application/vnd.jupyter.widget-view+json": {
       "model_id": "636cb10f1e7f456186ca6709d23211a9",
       "version_major": 2,
       "version_minor": 0
      },
      "text/plain": [
       "HBox(children=(FloatProgress(value=0.0, max=18625.0), HTML(value='')))"
      ]
     },
     "metadata": {},
     "output_type": "display_data"
    },
    {
     "name": "stdout",
     "output_type": "stream",
     "text": [
      "\n",
      "time_filter finished!\n",
      "charttime_offset start!\n"
     ]
    },
    {
     "data": {
      "application/vnd.jupyter.widget-view+json": {
       "model_id": "f667758b080248b4926eef7522b62e79",
       "version_major": 2,
       "version_minor": 0
      },
      "text/plain": [
       "HBox(children=(FloatProgress(value=0.0, max=18625.0), HTML(value='')))"
      ]
     },
     "metadata": {},
     "output_type": "display_data"
    },
    {
     "name": "stdout",
     "output_type": "stream",
     "text": [
      "\n",
      "charttime_offset finished!\n",
      "list_make_sort start!\n"
     ]
    },
    {
     "data": {
      "application/vnd.jupyter.widget-view+json": {
       "model_id": "4e90e4a865044096828370810695c0a7",
       "version_major": 2,
       "version_minor": 0
      },
      "text/plain": [
       "HBox(children=(FloatProgress(value=0.0, max=18625.0), HTML(value='')))"
      ]
     },
     "metadata": {},
     "output_type": "display_data"
    },
    {
     "name": "stdout",
     "output_type": "stream",
     "text": [
      "\n",
      "list_make_sort finished!\n",
      "preprocessing.. mimic_lab_LABEVENTS finish!\n",
      "preprocessing.. mimic_med_PRESCRIPTIONS start!\n",
      "cohort load finish!\n"
     ]
    },
    {
     "name": "stderr",
     "output_type": "stream",
     "text": [
      "/Users/Wesley/opt/anaconda3/lib/python3.8/site-packages/IPython/core/interactiveshell.py:3343: DtypeWarning: Columns (11) have mixed types.Specify dtype option on import or set low_memory=False.\n",
      "  exec(code_obj, self.user_global_ns, self.user_ns)\n"
     ]
    },
    {
     "name": "stdout",
     "output_type": "stream",
     "text": [
      "csv file load finish!\n",
      "column_rename start!\n",
      "column_rename finish!\n",
      "cohort_filtering start!\n"
     ]
    },
    {
     "name": "stderr",
     "output_type": "stream",
     "text": [
      "<ipython-input-10-aeffdb2cc5ea>:36: SettingWithCopyWarning: \n",
      "A value is trying to be set on a copy of a slice from a DataFrame\n",
      "\n",
      "See the caveats in the documentation: https://pandas.pydata.org/pandas-docs/stable/user_guide/indexing.html#returning-a-view-versus-a-copy\n",
      "  df['end_time'][indexes] = df[df['end_time'].isnull()==True]['start_time']\n"
     ]
    },
    {
     "name": "stdout",
     "output_type": "stream",
     "text": [
      "cohort_filtering finish!\n",
      "issue_delete start!\n",
      "issue_delete finish!\n",
      "name_dict start!\n",
      "name_dict finish!\n",
      "time_filter start!\n"
     ]
    },
    {
     "name": "stderr",
     "output_type": "stream",
     "text": [
      "<ipython-input-15-5af1536fce82>:47: DeprecationWarning: The default dtype for empty Series will be 'object' instead of 'float64' in a future version. Specify a dtype explicitly to silence this warning.\n",
      "  series = pd.Series()\n"
     ]
    },
    {
     "data": {
      "application/vnd.jupyter.widget-view+json": {
       "model_id": "71fee5e37f2b488abe9ee4472b8a9962",
       "version_major": 2,
       "version_minor": 0
      },
      "text/plain": [
       "HBox(children=(FloatProgress(value=0.0, max=17578.0), HTML(value='')))"
      ]
     },
     "metadata": {},
     "output_type": "display_data"
    },
    {
     "name": "stdout",
     "output_type": "stream",
     "text": [
      "\n"
     ]
    },
    {
     "data": {
      "application/vnd.jupyter.widget-view+json": {
       "model_id": "955a8a8f6ef14bf4bde73d24bdc35318",
       "version_major": 2,
       "version_minor": 0
      },
      "text/plain": [
       "HBox(children=(FloatProgress(value=0.0, max=17578.0), HTML(value='')))"
      ]
     },
     "metadata": {},
     "output_type": "display_data"
    },
    {
     "name": "stdout",
     "output_type": "stream",
     "text": [
      "\n",
      "time_filter finished!\n",
      "charttime_offset start!\n"
     ]
    },
    {
     "data": {
      "application/vnd.jupyter.widget-view+json": {
       "model_id": "9bbf8aa740bd42a8927ad65ff3d3645e",
       "version_major": 2,
       "version_minor": 0
      },
      "text/plain": [
       "HBox(children=(FloatProgress(value=0.0, max=17578.0), HTML(value='')))"
      ]
     },
     "metadata": {},
     "output_type": "display_data"
    },
    {
     "name": "stdout",
     "output_type": "stream",
     "text": [
      "\n",
      "charttime_offset finished!\n",
      "list_make_sort start!\n"
     ]
    },
    {
     "data": {
      "application/vnd.jupyter.widget-view+json": {
       "model_id": "2bc68371c55045ac8a1ffbe80ed53211",
       "version_major": 2,
       "version_minor": 0
      },
      "text/plain": [
       "HBox(children=(FloatProgress(value=0.0, max=17578.0), HTML(value='')))"
      ]
     },
     "metadata": {},
     "output_type": "display_data"
    },
    {
     "name": "stdout",
     "output_type": "stream",
     "text": [
      "\n",
      "list_make_sort finished!\n",
      "preprocessing.. mimic_med_PRESCRIPTIONS finish!\n",
      "preprocessing.. mimic_inf_INPUTEVENTS_CV start!\n",
      "cohort load finish!\n"
     ]
    },
    {
     "name": "stderr",
     "output_type": "stream",
     "text": [
      "/Users/Wesley/opt/anaconda3/lib/python3.8/site-packages/IPython/core/interactiveshell.py:3343: DtypeWarning: Columns (7,9,17,20,21) have mixed types.Specify dtype option on import or set low_memory=False.\n",
      "  exec(code_obj, self.user_global_ns, self.user_ns)\n"
     ]
    },
    {
     "name": "stdout",
     "output_type": "stream",
     "text": [
      "csv file load finish!\n",
      "column_rename start!\n",
      "column_rename finish!\n",
      "cohort_filtering start!\n",
      "cohort_filtering finish!\n",
      "issue_delete start!\n",
      "issue_delete finish!\n",
      "name_dict start!\n",
      "name_dict finish!\n",
      "time_filter start!\n"
     ]
    },
    {
     "name": "stderr",
     "output_type": "stream",
     "text": [
      "<ipython-input-15-5af1536fce82>:47: DeprecationWarning: The default dtype for empty Series will be 'object' instead of 'float64' in a future version. Specify a dtype explicitly to silence this warning.\n",
      "  series = pd.Series()\n"
     ]
    },
    {
     "data": {
      "application/vnd.jupyter.widget-view+json": {
       "model_id": "716df9893915403795bca658b27fb090",
       "version_major": 2,
       "version_minor": 0
      },
      "text/plain": [
       "HBox(children=(FloatProgress(value=0.0, max=9366.0), HTML(value='')))"
      ]
     },
     "metadata": {},
     "output_type": "display_data"
    },
    {
     "name": "stdout",
     "output_type": "stream",
     "text": [
      "\n",
      "time_filter finished!\n",
      "charttime_offset start!\n"
     ]
    },
    {
     "data": {
      "application/vnd.jupyter.widget-view+json": {
       "model_id": "dca0468e9b2c491cbcf4a449b5a0a13d",
       "version_major": 2,
       "version_minor": 0
      },
      "text/plain": [
       "HBox(children=(FloatProgress(value=0.0, max=9366.0), HTML(value='')))"
      ]
     },
     "metadata": {},
     "output_type": "display_data"
    },
    {
     "name": "stdout",
     "output_type": "stream",
     "text": [
      "\n",
      "charttime_offset finished!\n",
      "list_make_sort start!\n"
     ]
    },
    {
     "data": {
      "application/vnd.jupyter.widget-view+json": {
       "model_id": "2a92e45088c642a092eb9c87ead81a01",
       "version_major": 2,
       "version_minor": 0
      },
      "text/plain": [
       "HBox(children=(FloatProgress(value=0.0, max=9366.0), HTML(value='')))"
      ]
     },
     "metadata": {},
     "output_type": "display_data"
    },
    {
     "name": "stdout",
     "output_type": "stream",
     "text": [
      "\n",
      "list_make_sort finished!\n",
      "preprocessing.. mimic_inf_INPUTEVENTS_CV finish!\n",
      "preprocessing.. mimic_inf_INPUTEVENTS_MV start!\n",
      "cohort load finish!\n",
      "csv file load finish!\n",
      "column_rename start!\n",
      "column_rename finish!\n",
      "cohort_filtering start!\n"
     ]
    },
    {
     "name": "stderr",
     "output_type": "stream",
     "text": [
      "<ipython-input-10-aeffdb2cc5ea>:36: SettingWithCopyWarning: \n",
      "A value is trying to be set on a copy of a slice from a DataFrame\n",
      "\n",
      "See the caveats in the documentation: https://pandas.pydata.org/pandas-docs/stable/user_guide/indexing.html#returning-a-view-versus-a-copy\n",
      "  df['end_time'][indexes] = df[df['end_time'].isnull()==True]['start_time']\n"
     ]
    },
    {
     "name": "stdout",
     "output_type": "stream",
     "text": [
      "cohort_filtering finish!\n",
      "issue_delete start!\n",
      "issue_delete finish!\n",
      "name_dict start!\n",
      "name_dict finish!\n",
      "time_filter start!\n"
     ]
    },
    {
     "name": "stderr",
     "output_type": "stream",
     "text": [
      "<ipython-input-15-5af1536fce82>:47: DeprecationWarning: The default dtype for empty Series will be 'object' instead of 'float64' in a future version. Specify a dtype explicitly to silence this warning.\n",
      "  series = pd.Series()\n"
     ]
    },
    {
     "data": {
      "application/vnd.jupyter.widget-view+json": {
       "model_id": "cb47392d52ca4d39b90b12d59084abab",
       "version_major": 2,
       "version_minor": 0
      },
      "text/plain": [
       "HBox(children=(FloatProgress(value=0.0, max=9125.0), HTML(value='')))"
      ]
     },
     "metadata": {},
     "output_type": "display_data"
    },
    {
     "name": "stdout",
     "output_type": "stream",
     "text": [
      "\n"
     ]
    },
    {
     "data": {
      "application/vnd.jupyter.widget-view+json": {
       "model_id": "9b72b62f287e4959a185c27ad7c9293d",
       "version_major": 2,
       "version_minor": 0
      },
      "text/plain": [
       "HBox(children=(FloatProgress(value=0.0, max=9125.0), HTML(value='')))"
      ]
     },
     "metadata": {},
     "output_type": "display_data"
    },
    {
     "name": "stdout",
     "output_type": "stream",
     "text": [
      "\n",
      "time_filter finished!\n",
      "charttime_offset start!\n"
     ]
    },
    {
     "data": {
      "application/vnd.jupyter.widget-view+json": {
       "model_id": "9cd524eafebc41219565cb6774934abd",
       "version_major": 2,
       "version_minor": 0
      },
      "text/plain": [
       "HBox(children=(FloatProgress(value=0.0, max=9125.0), HTML(value='')))"
      ]
     },
     "metadata": {},
     "output_type": "display_data"
    },
    {
     "name": "stdout",
     "output_type": "stream",
     "text": [
      "\n",
      "charttime_offset finished!\n",
      "list_make_sort start!\n"
     ]
    },
    {
     "data": {
      "application/vnd.jupyter.widget-view+json": {
       "model_id": "c14a0d89d3bf41a19b843b984637286b",
       "version_major": 2,
       "version_minor": 0
      },
      "text/plain": [
       "HBox(children=(FloatProgress(value=0.0, max=9125.0), HTML(value='')))"
      ]
     },
     "metadata": {},
     "output_type": "display_data"
    },
    {
     "name": "stdout",
     "output_type": "stream",
     "text": [
      "\n",
      "list_make_sort finished!\n",
      "preprocessing.. mimic_inf_INPUTEVENTS_MV finish!\n",
      "preprocessing.. eicu_lab_lab start!\n",
      "cohort load finish!\n",
      "csv file load finish!\n",
      "column_rename start!\n",
      "column_rename finish!\n",
      "cohort_filtering start!\n",
      "cohort_filtering finish!\n",
      "issue_delete start!\n",
      "issue_delete finish!\n",
      "time_filter start!\n",
      "time_filter finished!\n",
      "list_make_sort start!\n"
     ]
    },
    {
     "data": {
      "application/vnd.jupyter.widget-view+json": {
       "model_id": "de22b16d0a5f434180c513554ca45113",
       "version_major": 2,
       "version_minor": 0
      },
      "text/plain": [
       "HBox(children=(FloatProgress(value=0.0, max=13820.0), HTML(value='')))"
      ]
     },
     "metadata": {},
     "output_type": "display_data"
    },
    {
     "name": "stdout",
     "output_type": "stream",
     "text": [
      "\n",
      "list_make_sort finished!\n",
      "preprocessing.. eicu_lab_lab finish!\n",
      "preprocessing.. eicu_med_medication start!\n",
      "cohort load finish!\n"
     ]
    },
    {
     "name": "stderr",
     "output_type": "stream",
     "text": [
      "/Users/Wesley/opt/anaconda3/lib/python3.8/site-packages/IPython/core/interactiveshell.py:3343: DtypeWarning: Columns (11) have mixed types.Specify dtype option on import or set low_memory=False.\n",
      "  exec(code_obj, self.user_global_ns, self.user_ns)\n"
     ]
    },
    {
     "name": "stdout",
     "output_type": "stream",
     "text": [
      "csv file load finish!\n",
      "column_rename start!\n",
      "column_rename finish!\n",
      "cohort_filtering start!\n",
      "cohort_filtering finish!\n",
      "issue_delete start!\n",
      "issue_delete finish!\n",
      "time_filter start!\n",
      "time_filter finished!\n",
      "list_make_sort start!\n"
     ]
    },
    {
     "data": {
      "application/vnd.jupyter.widget-view+json": {
       "model_id": "29137e7f46f74f9095c2b4c6a79c19b2",
       "version_major": 2,
       "version_minor": 0
      },
      "text/plain": [
       "HBox(children=(FloatProgress(value=0.0, max=12139.0), HTML(value='')))"
      ]
     },
     "metadata": {},
     "output_type": "display_data"
    },
    {
     "name": "stdout",
     "output_type": "stream",
     "text": [
      "\n",
      "list_make_sort finished!\n",
      "preprocessing.. eicu_med_medication finish!\n",
      "preprocessing.. eicu_inf_infusionDrug start!\n",
      "cohort load finish!\n"
     ]
    },
    {
     "name": "stderr",
     "output_type": "stream",
     "text": [
      "/Users/Wesley/opt/anaconda3/lib/python3.8/site-packages/IPython/core/interactiveshell.py:3343: DtypeWarning: Columns (4) have mixed types.Specify dtype option on import or set low_memory=False.\n",
      "  exec(code_obj, self.user_global_ns, self.user_ns)\n"
     ]
    },
    {
     "name": "stdout",
     "output_type": "stream",
     "text": [
      "csv file load finish!\n",
      "column_rename start!\n",
      "column_rename finish!\n",
      "cohort_filtering start!\n",
      "cohort_filtering finish!\n",
      "issue_delete start!\n",
      "issue_delete finish!\n",
      "time_filter start!\n",
      "time_filter finished!\n",
      "list_make_sort start!\n"
     ]
    },
    {
     "data": {
      "application/vnd.jupyter.widget-view+json": {
       "model_id": "ae5396eed4364aff9e9e71ef7eb0e7f6",
       "version_major": 2,
       "version_minor": 0
      },
      "text/plain": [
       "HBox(children=(FloatProgress(value=0.0, max=6455.0), HTML(value='')))"
      ]
     },
     "metadata": {},
     "output_type": "display_data"
    },
    {
     "name": "stdout",
     "output_type": "stream",
     "text": [
      "\n",
      "list_make_sort finished!\n",
      "preprocessing.. eicu_inf_infusionDrug finish!\n"
     ]
    }
   ],
   "source": [
    "exist_output = os.listdir(output_dir) # what's in our output directory?\n",
    "print('exist_files!',exist_output)\n",
    "\n",
    "for src in sources: # that is, < for src in sources = ['mimic', 'eicu'] >\n",
    "    for item in items:  # that is, < for item in items = ['lab','med','inf'] >\n",
    "        if src == 'mimic':\n",
    "            files = mimic_csv_files[item] # the files from mimic that we want\n",
    "            columns_map= mimic_columns_map # the columns from mimic we care about, to be arg for pre_processing_1st\n",
    "        elif src == 'eicu':\n",
    "            if item == 'chart': # ignore \"chart\"\n",
    "                continue\n",
    "            files = eicu_csv_files[item]\n",
    "            columns_map= eicu_columns_map \n",
    "        for file in files: \n",
    "            filename = os.path.join(output_dir, '{}_{}_{}_init.pkl'.format(src,item,file))\n",
    "          #  if filename not in exist_output:\n",
    "\n",
    "            if filename in exist_output:\n",
    "                os.remove(filename)\n",
    "            pre_processing_1st(src, item, file, columns_map, mimic_dictionary_file)\n"
   ]
  },
  {
   "cell_type": "code",
   "execution_count": null,
   "metadata": {},
   "outputs": [],
   "source": []
  },
  {
   "cell_type": "code",
   "execution_count": null,
   "metadata": {},
   "outputs": [],
   "source": []
  }
 ],
 "metadata": {
  "kernelspec": {
   "display_name": "Python 3",
   "language": "python",
   "name": "python3"
  },
  "language_info": {
   "codemirror_mode": {
    "name": "ipython",
    "version": 3
   },
   "file_extension": ".py",
   "mimetype": "text/x-python",
   "name": "python",
   "nbconvert_exporter": "python",
   "pygments_lexer": "ipython3",
   "version": "3.8.3"
  }
 },
 "nbformat": 4,
 "nbformat_minor": 4
}
