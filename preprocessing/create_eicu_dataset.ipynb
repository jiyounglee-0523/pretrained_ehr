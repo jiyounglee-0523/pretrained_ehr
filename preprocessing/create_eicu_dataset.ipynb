{
 "cells": [
  {
   "cell_type": "code",
   "execution_count": 1,
   "metadata": {},
   "outputs": [],
   "source": [
    "import os, sys\n",
    "import pandas as pd\n",
    "import numpy as np\n",
    "import pickle"
   ]
  },
  {
   "cell_type": "code",
   "execution_count": 2,
   "metadata": {},
   "outputs": [],
   "source": [
    "patient_path = \"patient_clean.csv\"\n",
    "patient_df = pd.read_csv(patient_path)"
   ]
  },
  {
   "cell_type": "code",
   "execution_count": 15,
   "metadata": {
    "scrolled": true
   },
   "outputs": [
    {
     "data": {
      "text/plain": [
       "200859"
      ]
     },
     "execution_count": 15,
     "metadata": {},
     "output_type": "execute_result"
    }
   ],
   "source": [
    "len(set(patient_df.patientunitstayid))"
   ]
  },
  {
   "cell_type": "code",
   "execution_count": 5,
   "metadata": {},
   "outputs": [],
   "source": [
    "micu = patient_df[patient_df.unittype == 'MICU']\n",
    "micuAge = micu[micu.age >= 18]"
   ]
  },
  {
   "cell_type": "code",
   "execution_count": 6,
   "metadata": {},
   "outputs": [],
   "source": [
    "readmit = micuAge.groupby('patienthealthsystemstayid')['patientunitstayid'].count()\n",
    "readmit_labels = (readmit > 1).astype('int64').to_frame().rename(columns={'patientunitstayid':'readmission'})"
   ]
  },
  {
   "cell_type": "code",
   "execution_count": 7,
   "metadata": {},
   "outputs": [],
   "source": [
    "firstIcus = micuAge.loc[micuAge.groupby('patienthealthsystemstayid').hospitaladmitoffset.idxmax()]"
   ]
  },
  {
   "cell_type": "code",
   "execution_count": 8,
   "metadata": {},
   "outputs": [],
   "source": [
    "readmission_cohort = firstIcus.join(readmit_labels, on='patienthealthsystemstayid')"
   ]
  },
  {
   "cell_type": "code",
   "execution_count": 9,
   "metadata": {},
   "outputs": [
    {
     "data": {
      "text/plain": [
       "4150"
      ]
     },
     "execution_count": 9,
     "metadata": {},
     "output_type": "execute_result"
    }
   ],
   "source": [
    "(readmission_cohort['unitdischargeoffset'] < 60*24).sum()"
   ]
  },
  {
   "cell_type": "code",
   "execution_count": 10,
   "metadata": {},
   "outputs": [],
   "source": [
    "cohort = readmission_cohort"
   ]
  },
  {
   "cell_type": "code",
   "execution_count": 11,
   "metadata": {},
   "outputs": [],
   "source": [
    "cohort['mortality'] = (cohort['unitdischargestatus'] == 'Expired').astype('int64')"
   ]
  },
  {
   "cell_type": "code",
   "execution_count": 12,
   "metadata": {},
   "outputs": [],
   "source": [
    "cohort['losday'] = (cohort['unitdischargeoffset'].astype('float') / (24.*60.))"
   ]
  },
  {
   "cell_type": "code",
   "execution_count": 13,
   "metadata": {},
   "outputs": [],
   "source": [
    "cohort['los>3day'] = (cohort['losday'] > 3.).astype('int64')\n",
    "cohort['los>7day'] = (cohort['losday'] > 7.).astype('int64')"
   ]
  },
  {
   "cell_type": "code",
   "execution_count": 14,
   "metadata": {},
   "outputs": [
    {
     "data": {
      "text/plain": [
       "1739"
      ]
     },
     "execution_count": 14,
     "metadata": {},
     "output_type": "execute_result"
    }
   ],
   "source": [
    "cohort['readmission'].sum()"
   ]
  },
  {
   "cell_type": "code",
   "execution_count": 15,
   "metadata": {},
   "outputs": [],
   "source": [
    "cohort12h = cohort[cohort['unitdischargeoffset'] > 60*12]"
   ]
  },
  {
   "cell_type": "code",
   "execution_count": 16,
   "metadata": {},
   "outputs": [
    {
     "data": {
      "text/plain": [
       "(13941, 34)"
      ]
     },
     "execution_count": 16,
     "metadata": {},
     "output_type": "execute_result"
    }
   ],
   "source": [
    "cohort12h.shape"
   ]
  },
  {
   "cell_type": "code",
   "execution_count": 17,
   "metadata": {},
   "outputs": [],
   "source": [
    "dxPath = 'diagnosis.csv'\n",
    "dxDf = pd.read_csv(dxPath)"
   ]
  },
  {
   "cell_type": "code",
   "execution_count": 18,
   "metadata": {},
   "outputs": [],
   "source": [
    "cohort12hDx = dxDf[dxDf.patientunitstayid.isin(cohort12h.patientunitstayid)]"
   ]
  },
  {
   "cell_type": "code",
   "execution_count": 19,
   "metadata": {},
   "outputs": [],
   "source": [
    "diagnosis = cohort12hDx.groupby('patientunitstayid')['diagnosisstring'].apply(list).to_frame()"
   ]
  },
  {
   "cell_type": "code",
   "execution_count": 312,
   "metadata": {},
   "outputs": [],
   "source": [
    "tempdf = cohort12h.join(diagnosis, on='patientunitstayid')"
   ]
  },
  {
   "cell_type": "code",
   "execution_count": 321,
   "metadata": {},
   "outputs": [],
   "source": [
    "pickle.dump(tempdf, open('eicu_cohort.pk', 'wb'), -1)"
   ]
  },
  {
   "cell_type": "code",
   "execution_count": 29,
   "metadata": {},
   "outputs": [],
   "source": [
    "cohort = pickle.load(open('eicu_cohort.pk', 'rb'))"
   ]
  },
  {
   "cell_type": "code",
   "execution_count": 30,
   "metadata": {},
   "outputs": [
    {
     "data": {
      "text/html": [
       "<div>\n",
       "<style scoped>\n",
       "    .dataframe tbody tr th:only-of-type {\n",
       "        vertical-align: middle;\n",
       "    }\n",
       "\n",
       "    .dataframe tbody tr th {\n",
       "        vertical-align: top;\n",
       "    }\n",
       "\n",
       "    .dataframe thead th {\n",
       "        text-align: right;\n",
       "    }\n",
       "</style>\n",
       "<table border=\"1\" class=\"dataframe\">\n",
       "  <thead>\n",
       "    <tr style=\"text-align: right;\">\n",
       "      <th></th>\n",
       "      <th>patientunitstayid</th>\n",
       "      <th>patienthealthsystemstayid</th>\n",
       "      <th>gender</th>\n",
       "      <th>age</th>\n",
       "      <th>ethnicity</th>\n",
       "      <th>hospitalid</th>\n",
       "      <th>wardid</th>\n",
       "      <th>apacheadmissiondx</th>\n",
       "      <th>admissionheight</th>\n",
       "      <th>hospitaladmittime24</th>\n",
       "      <th>...</th>\n",
       "      <th>unitdischargeoffset</th>\n",
       "      <th>unitdischargelocation</th>\n",
       "      <th>unitdischargestatus</th>\n",
       "      <th>uniquepid</th>\n",
       "      <th>readmission</th>\n",
       "      <th>mortality</th>\n",
       "      <th>losday</th>\n",
       "      <th>los&gt;3day</th>\n",
       "      <th>los&gt;7day</th>\n",
       "      <th>diagnosisstring</th>\n",
       "    </tr>\n",
       "  </thead>\n",
       "  <tbody>\n",
       "    <tr>\n",
       "      <th>32</th>\n",
       "      <td>141366</td>\n",
       "      <td>129086</td>\n",
       "      <td>Male</td>\n",
       "      <td>81.0</td>\n",
       "      <td>Caucasian</td>\n",
       "      <td>73</td>\n",
       "      <td>97</td>\n",
       "      <td>Respiratory surgery, other</td>\n",
       "      <td>172.7</td>\n",
       "      <td>16:06:00</td>\n",
       "      <td>...</td>\n",
       "      <td>1339</td>\n",
       "      <td>Floor</td>\n",
       "      <td>Alive</td>\n",
       "      <td>002-17331</td>\n",
       "      <td>0</td>\n",
       "      <td>0</td>\n",
       "      <td>0.929861</td>\n",
       "      <td>0</td>\n",
       "      <td>0</td>\n",
       "      <td>NaN</td>\n",
       "    </tr>\n",
       "    <tr>\n",
       "      <th>34</th>\n",
       "      <td>141392</td>\n",
       "      <td>129109</td>\n",
       "      <td>Female</td>\n",
       "      <td>78.0</td>\n",
       "      <td>Caucasian</td>\n",
       "      <td>73</td>\n",
       "      <td>97</td>\n",
       "      <td>Sepsis, renal/UTI (including bladder)</td>\n",
       "      <td>160.0</td>\n",
       "      <td>08:32:00</td>\n",
       "      <td>...</td>\n",
       "      <td>961</td>\n",
       "      <td>Floor</td>\n",
       "      <td>Alive</td>\n",
       "      <td>002-49989</td>\n",
       "      <td>0</td>\n",
       "      <td>0</td>\n",
       "      <td>0.667361</td>\n",
       "      <td>0</td>\n",
       "      <td>0</td>\n",
       "      <td>[endocrine|glucose metabolism|diabetes mellitu...</td>\n",
       "    </tr>\n",
       "    <tr>\n",
       "      <th>42</th>\n",
       "      <td>141462</td>\n",
       "      <td>129166</td>\n",
       "      <td>Male</td>\n",
       "      <td>80.0</td>\n",
       "      <td>Caucasian</td>\n",
       "      <td>73</td>\n",
       "      <td>97</td>\n",
       "      <td>Sepsis, pulmonary</td>\n",
       "      <td>170.2</td>\n",
       "      <td>05:27:00</td>\n",
       "      <td>...</td>\n",
       "      <td>5198</td>\n",
       "      <td>Floor</td>\n",
       "      <td>Alive</td>\n",
       "      <td>002-24032</td>\n",
       "      <td>0</td>\n",
       "      <td>0</td>\n",
       "      <td>3.609722</td>\n",
       "      <td>1</td>\n",
       "      <td>0</td>\n",
       "      <td>[endocrine|glucose metabolism|diabetes mellitu...</td>\n",
       "    </tr>\n",
       "    <tr>\n",
       "      <th>44</th>\n",
       "      <td>141475</td>\n",
       "      <td>129176</td>\n",
       "      <td>Male</td>\n",
       "      <td>87.0</td>\n",
       "      <td>Caucasian</td>\n",
       "      <td>73</td>\n",
       "      <td>97</td>\n",
       "      <td>Sepsis, pulmonary</td>\n",
       "      <td>180.3</td>\n",
       "      <td>06:48:00</td>\n",
       "      <td>...</td>\n",
       "      <td>732</td>\n",
       "      <td>Floor</td>\n",
       "      <td>Alive</td>\n",
       "      <td>002-11644</td>\n",
       "      <td>0</td>\n",
       "      <td>0</td>\n",
       "      <td>0.508333</td>\n",
       "      <td>0</td>\n",
       "      <td>0</td>\n",
       "      <td>NaN</td>\n",
       "    </tr>\n",
       "    <tr>\n",
       "      <th>55</th>\n",
       "      <td>141584</td>\n",
       "      <td>129260</td>\n",
       "      <td>Male</td>\n",
       "      <td>63.0</td>\n",
       "      <td>Caucasian</td>\n",
       "      <td>73</td>\n",
       "      <td>97</td>\n",
       "      <td>Emphysema/bronchitis</td>\n",
       "      <td>185.4</td>\n",
       "      <td>01:10:00</td>\n",
       "      <td>...</td>\n",
       "      <td>4225</td>\n",
       "      <td>Floor</td>\n",
       "      <td>Alive</td>\n",
       "      <td>002-17958</td>\n",
       "      <td>1</td>\n",
       "      <td>0</td>\n",
       "      <td>2.934028</td>\n",
       "      <td>0</td>\n",
       "      <td>0</td>\n",
       "      <td>[endocrine|thyroid|hypothyroidism, pulmonary|d...</td>\n",
       "    </tr>\n",
       "    <tr>\n",
       "      <th>...</th>\n",
       "      <td>...</td>\n",
       "      <td>...</td>\n",
       "      <td>...</td>\n",
       "      <td>...</td>\n",
       "      <td>...</td>\n",
       "      <td>...</td>\n",
       "      <td>...</td>\n",
       "      <td>...</td>\n",
       "      <td>...</td>\n",
       "      <td>...</td>\n",
       "      <td>...</td>\n",
       "      <td>...</td>\n",
       "      <td>...</td>\n",
       "      <td>...</td>\n",
       "      <td>...</td>\n",
       "      <td>...</td>\n",
       "      <td>...</td>\n",
       "      <td>...</td>\n",
       "      <td>...</td>\n",
       "      <td>...</td>\n",
       "      <td>...</td>\n",
       "    </tr>\n",
       "    <tr>\n",
       "      <th>200843</th>\n",
       "      <td>3353190</td>\n",
       "      <td>2743049</td>\n",
       "      <td>Male</td>\n",
       "      <td>39.0</td>\n",
       "      <td>Caucasian</td>\n",
       "      <td>458</td>\n",
       "      <td>1106</td>\n",
       "      <td>Coma/change in level of consciousness (for hep...</td>\n",
       "      <td>180.3</td>\n",
       "      <td>19:35:00</td>\n",
       "      <td>...</td>\n",
       "      <td>3051</td>\n",
       "      <td>Floor</td>\n",
       "      <td>Alive</td>\n",
       "      <td>035-7770</td>\n",
       "      <td>0</td>\n",
       "      <td>0</td>\n",
       "      <td>2.118750</td>\n",
       "      <td>0</td>\n",
       "      <td>0</td>\n",
       "      <td>[hematology|coagulation disorders|hypercoagula...</td>\n",
       "    </tr>\n",
       "    <tr>\n",
       "      <th>200847</th>\n",
       "      <td>3353198</td>\n",
       "      <td>2743055</td>\n",
       "      <td>Female</td>\n",
       "      <td>66.0</td>\n",
       "      <td>Caucasian</td>\n",
       "      <td>458</td>\n",
       "      <td>1106</td>\n",
       "      <td>Coma/change in level of consciousness (for hep...</td>\n",
       "      <td>157.5</td>\n",
       "      <td>06:38:00</td>\n",
       "      <td>...</td>\n",
       "      <td>23031</td>\n",
       "      <td>Step-Down Unit (SDU)</td>\n",
       "      <td>Alive</td>\n",
       "      <td>035-18808</td>\n",
       "      <td>0</td>\n",
       "      <td>0</td>\n",
       "      <td>15.993750</td>\n",
       "      <td>1</td>\n",
       "      <td>1</td>\n",
       "      <td>[neurologic|altered mental status / pain|chang...</td>\n",
       "    </tr>\n",
       "    <tr>\n",
       "      <th>200851</th>\n",
       "      <td>3353213</td>\n",
       "      <td>2743064</td>\n",
       "      <td>Female</td>\n",
       "      <td>51.0</td>\n",
       "      <td>Caucasian</td>\n",
       "      <td>458</td>\n",
       "      <td>1106</td>\n",
       "      <td>Coma/change in level of consciousness (for hep...</td>\n",
       "      <td>160.0</td>\n",
       "      <td>02:13:00</td>\n",
       "      <td>...</td>\n",
       "      <td>4913</td>\n",
       "      <td>Home</td>\n",
       "      <td>Alive</td>\n",
       "      <td>035-15653</td>\n",
       "      <td>0</td>\n",
       "      <td>0</td>\n",
       "      <td>3.411806</td>\n",
       "      <td>1</td>\n",
       "      <td>0</td>\n",
       "      <td>[pulmonary|disorders of the airways|acute COPD...</td>\n",
       "    </tr>\n",
       "    <tr>\n",
       "      <th>200855</th>\n",
       "      <td>3353237</td>\n",
       "      <td>2743086</td>\n",
       "      <td>Female</td>\n",
       "      <td>79.0</td>\n",
       "      <td>Caucasian</td>\n",
       "      <td>458</td>\n",
       "      <td>1106</td>\n",
       "      <td>Embolus, pulmonary</td>\n",
       "      <td>162.6</td>\n",
       "      <td>01:45:00</td>\n",
       "      <td>...</td>\n",
       "      <td>1269</td>\n",
       "      <td>Step-Down Unit (SDU)</td>\n",
       "      <td>Alive</td>\n",
       "      <td>035-751</td>\n",
       "      <td>0</td>\n",
       "      <td>0</td>\n",
       "      <td>0.881250</td>\n",
       "      <td>0</td>\n",
       "      <td>0</td>\n",
       "      <td>[pulmonary|disorders of vasculature|pulmonary ...</td>\n",
       "    </tr>\n",
       "    <tr>\n",
       "      <th>200858</th>\n",
       "      <td>3353263</td>\n",
       "      <td>2743110</td>\n",
       "      <td>Male</td>\n",
       "      <td>35.0</td>\n",
       "      <td>African American</td>\n",
       "      <td>458</td>\n",
       "      <td>1106</td>\n",
       "      <td>Embolus, pulmonary</td>\n",
       "      <td>182.9</td>\n",
       "      <td>03:22:00</td>\n",
       "      <td>...</td>\n",
       "      <td>928</td>\n",
       "      <td>Telemetry</td>\n",
       "      <td>Alive</td>\n",
       "      <td>035-22638</td>\n",
       "      <td>0</td>\n",
       "      <td>0</td>\n",
       "      <td>0.644444</td>\n",
       "      <td>0</td>\n",
       "      <td>0</td>\n",
       "      <td>[pulmonary|disorders of vasculature|pulmonary ...</td>\n",
       "    </tr>\n",
       "  </tbody>\n",
       "</table>\n",
       "<p>13941 rows × 35 columns</p>\n",
       "</div>"
      ],
      "text/plain": [
       "        patientunitstayid  patienthealthsystemstayid  gender   age  \\\n",
       "32                 141366                     129086    Male  81.0   \n",
       "34                 141392                     129109  Female  78.0   \n",
       "42                 141462                     129166    Male  80.0   \n",
       "44                 141475                     129176    Male  87.0   \n",
       "55                 141584                     129260    Male  63.0   \n",
       "...                   ...                        ...     ...   ...   \n",
       "200843            3353190                    2743049    Male  39.0   \n",
       "200847            3353198                    2743055  Female  66.0   \n",
       "200851            3353213                    2743064  Female  51.0   \n",
       "200855            3353237                    2743086  Female  79.0   \n",
       "200858            3353263                    2743110    Male  35.0   \n",
       "\n",
       "               ethnicity  hospitalid  wardid  \\\n",
       "32             Caucasian          73      97   \n",
       "34             Caucasian          73      97   \n",
       "42             Caucasian          73      97   \n",
       "44             Caucasian          73      97   \n",
       "55             Caucasian          73      97   \n",
       "...                  ...         ...     ...   \n",
       "200843         Caucasian         458    1106   \n",
       "200847         Caucasian         458    1106   \n",
       "200851         Caucasian         458    1106   \n",
       "200855         Caucasian         458    1106   \n",
       "200858  African American         458    1106   \n",
       "\n",
       "                                        apacheadmissiondx  admissionheight  \\\n",
       "32                             Respiratory surgery, other            172.7   \n",
       "34                  Sepsis, renal/UTI (including bladder)            160.0   \n",
       "42                                      Sepsis, pulmonary            170.2   \n",
       "44                                      Sepsis, pulmonary            180.3   \n",
       "55                                   Emphysema/bronchitis            185.4   \n",
       "...                                                   ...              ...   \n",
       "200843  Coma/change in level of consciousness (for hep...            180.3   \n",
       "200847  Coma/change in level of consciousness (for hep...            157.5   \n",
       "200851  Coma/change in level of consciousness (for hep...            160.0   \n",
       "200855                                 Embolus, pulmonary            162.6   \n",
       "200858                                 Embolus, pulmonary            182.9   \n",
       "\n",
       "       hospitaladmittime24  ...  unitdischargeoffset unitdischargelocation  \\\n",
       "32                16:06:00  ...                 1339                 Floor   \n",
       "34                08:32:00  ...                  961                 Floor   \n",
       "42                05:27:00  ...                 5198                 Floor   \n",
       "44                06:48:00  ...                  732                 Floor   \n",
       "55                01:10:00  ...                 4225                 Floor   \n",
       "...                    ...  ...                  ...                   ...   \n",
       "200843            19:35:00  ...                 3051                 Floor   \n",
       "200847            06:38:00  ...                23031  Step-Down Unit (SDU)   \n",
       "200851            02:13:00  ...                 4913                  Home   \n",
       "200855            01:45:00  ...                 1269  Step-Down Unit (SDU)   \n",
       "200858            03:22:00  ...                  928             Telemetry   \n",
       "\n",
       "        unitdischargestatus  uniquepid  readmission mortality     losday  \\\n",
       "32                    Alive  002-17331            0         0   0.929861   \n",
       "34                    Alive  002-49989            0         0   0.667361   \n",
       "42                    Alive  002-24032            0         0   3.609722   \n",
       "44                    Alive  002-11644            0         0   0.508333   \n",
       "55                    Alive  002-17958            1         0   2.934028   \n",
       "...                     ...        ...          ...       ...        ...   \n",
       "200843                Alive   035-7770            0         0   2.118750   \n",
       "200847                Alive  035-18808            0         0  15.993750   \n",
       "200851                Alive  035-15653            0         0   3.411806   \n",
       "200855                Alive    035-751            0         0   0.881250   \n",
       "200858                Alive  035-22638            0         0   0.644444   \n",
       "\n",
       "       los>3day los>7day                                    diagnosisstring  \n",
       "32            0        0                                                NaN  \n",
       "34            0        0  [endocrine|glucose metabolism|diabetes mellitu...  \n",
       "42            1        0  [endocrine|glucose metabolism|diabetes mellitu...  \n",
       "44            0        0                                                NaN  \n",
       "55            0        0  [endocrine|thyroid|hypothyroidism, pulmonary|d...  \n",
       "...         ...      ...                                                ...  \n",
       "200843        0        0  [hematology|coagulation disorders|hypercoagula...  \n",
       "200847        1        1  [neurologic|altered mental status / pain|chang...  \n",
       "200851        1        0  [pulmonary|disorders of the airways|acute COPD...  \n",
       "200855        0        0  [pulmonary|disorders of vasculature|pulmonary ...  \n",
       "200858        0        0  [pulmonary|disorders of vasculature|pulmonary ...  \n",
       "\n",
       "[13941 rows x 35 columns]"
      ]
     },
     "execution_count": 30,
     "metadata": {},
     "output_type": "execute_result"
    }
   ],
   "source": [
    "cohort"
   ]
  },
  {
   "cell_type": "code",
   "execution_count": 34,
   "metadata": {},
   "outputs": [
    {
     "data": {
      "text/plain": [
       "0.102359945484542"
      ]
     },
     "execution_count": 34,
     "metadata": {},
     "output_type": "execute_result"
    }
   ],
   "source": [
    "cohort['los>7day'].mean()"
   ]
  },
  {
   "cell_type": "code",
   "execution_count": 20,
   "metadata": {},
   "outputs": [],
   "source": [
    "dxDict = dict(enumerate(cohort12hDx.groupby('diagnosisstring').count().index))"
   ]
  },
  {
   "cell_type": "code",
   "execution_count": 21,
   "metadata": {},
   "outputs": [],
   "source": [
    "#pd.DataFrame(dxDict)\n",
    "dxDict = dict([(v,k) for k,v in dxDict.items()])"
   ]
  },
  {
   "cell_type": "code",
   "execution_count": 36,
   "metadata": {},
   "outputs": [],
   "source": [
    "dxSet = set([key.split('|')[0] for key in dxDict.keys()])\n",
    "#dxSet = set([key.split('|')[0] + \" # \" + key.split('|')[1] for key in dxDict.keys()])"
   ]
  },
  {
   "cell_type": "code",
   "execution_count": 37,
   "metadata": {},
   "outputs": [
    {
     "data": {
      "text/plain": [
       "{'burns/trauma',\n",
       " 'cardiovascular',\n",
       " 'endocrine',\n",
       " 'gastrointestinal',\n",
       " 'general',\n",
       " 'genitourinary',\n",
       " 'hematology',\n",
       " 'infectious diseases',\n",
       " 'musculoskeletal',\n",
       " 'neurologic',\n",
       " 'obstetrics/gynecology',\n",
       " 'oncology',\n",
       " 'pulmonary',\n",
       " 'renal',\n",
       " 'surgery',\n",
       " 'toxicology',\n",
       " 'transplant'}"
      ]
     },
     "execution_count": 37,
     "metadata": {},
     "output_type": "execute_result"
    }
   ],
   "source": [
    "(dxSet)"
   ]
  },
  {
   "cell_type": "code",
   "execution_count": null,
   "metadata": {},
   "outputs": [],
   "source": [
    "'Infectious and parasitic diseases',\n",
    "'Neoplasms',\n",
    "'Endocrine; nutritional; and metabolic diseases and immunity disorders',\n",
    "'Diseases of the blood and blood-forming organs',\n",
    "'Mental illness',\n",
    "'Diseases of the nervous system and sense organs',\n",
    "'Diseases of the circulatory system',\n",
    "'Diseases of the respiratory system',\n",
    "'Diseases of the digestive system',\n",
    "'Diseases of the genitourinary system',\n",
    "'Complications of pregnancy; childbirth; and the puerperium',\n",
    "'Diseases of the skin and subcutaneous tissue',\n",
    "'Diseases of the musculoskeletal system and connective tissue',\n",
    "'Congenital anomalies',\n",
    "'Certain conditions originating in the perinatal period',\n",
    "'Injury and poisoning',\n",
    "'Symptoms; signs; and ill-defined conditions and factors influencing health status',\n",
    "'Residual codes; unclassified; all E codes',"
   ]
  }
 ],
 "metadata": {
  "kernelspec": {
   "display_name": "Python 3",
   "language": "python",
   "name": "python3"
  },
  "language_info": {
   "codemirror_mode": {
    "name": "ipython",
    "version": 3
   },
   "file_extension": ".py",
   "mimetype": "text/x-python",
   "name": "python",
   "nbconvert_exporter": "python",
   "pygments_lexer": "ipython3",
   "version": "3.7.6"
  }
 },
 "nbformat": 4,
 "nbformat_minor": 4
}
