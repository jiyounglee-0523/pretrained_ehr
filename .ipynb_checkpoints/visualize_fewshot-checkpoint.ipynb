{
 "cells": [
  {
   "cell_type": "code",
   "execution_count": 6,
   "metadata": {},
   "outputs": [],
   "source": [
    "import matplotlib.pyplot as plt\n",
    "%matplotlib inline\n",
    "\n",
    "import numpy as np"
   ]
  },
  {
   "cell_type": "code",
   "execution_count": 47,
   "metadata": {},
   "outputs": [
    {
     "data": {
      "image/png": "[encoded data removed]",
      "text/plain": [
       "<Figure size 432x288 with 1 Axes>"
      ]
     },
     "metadata": {
      "needs_background": "light"
     },
     "output_type": "display_data"
    }
   ],
   "source": [
    "task = 'readmission'\n",
    "metric = 'AUPRC'\n",
    "source_file = 'mimic'\n",
    "test_file = 'eicu'\n",
    "\n",
    "## data\n",
    "zero_shot = np.array([0.125, 0.107, 0.106, 0.105, 0.108])\n",
    "one_shot = np.array([0.1303, 0.106, 0.1015, 0.1009, 0.114])\n",
    "three_shot = np.array([0.141, 0.1131, 0.1123, 0.1053, 0.1275])\n",
    "five_shot = np.array([0.139, 0.1382, 0.1315, 0.1354, 0.1178])\n",
    "seven_shot = np.array([0.1418, 0.1545, 0.1453, 0.1367, 0.1617])\n",
    "nine_shot = np.array([0.1427, 0.155, 0.1603, 0.1484, 0.1429])\n",
    "full_shot = np.array([0.1613, 0.1727, 0.1341, 0.1849, 0.1668])\n",
    "\n",
    "test2test = np.array([0.144, 0.111, 0.105, 0.119, 0.15])\n",
    "both2test = np.array([0.252, 0.234, 0.243, 0.271, 0.109])\n",
    "\n",
    "\n",
    "# x-axis\n",
    "x_axis = np.array([0, 0.1, 0.3, 0.5, 0.7, 0.9, 1.0])\n",
    "\n",
    "fig = plt.figure()\n",
    "ax = fig.add_subplot(1, 1, 1)\n",
    "\n",
    "mean_value = np.array([np.mean(zero_shot), np.mean(one_shot), np.mean(three_shot), np.mean(five_shot), np.mean(seven_shot), \n",
    "                          np.mean(nine_shot), np.mean(full_shot)])\n",
    "max_value = np.array([np.max(zero_shot), np.max(one_shot), np.max(three_shot), np.max(five_shot), np.max(seven_shot), np.max(nine_shot), np.max(full_shot)])\n",
    "min_value = np.array([np.min(zero_shot), np.min(one_shot), np.min(three_shot), np.min(five_shot), np.min(seven_shot), np.min(nine_shot), np.min(full_shot)])\n",
    "\n",
    "# mean\n",
    "ax.plot(x_axis, mean_value, color='darkblue', label='{}->{}'.format(source_file, test_file))\n",
    "# max\n",
    "ax.plot(x_axis, max_value, color='royalblue')\n",
    "# min\n",
    "ax.plot(x_axis, min_value, color='royalblue')\n",
    "plt.fill_between(x_axis, max_value, min_value, facecolor = 'lavender')\n",
    "\n",
    "# upper bound\n",
    "ax.plot(x_axis, np.array([np.mean(test2test)] * 7), label='{}->{}'.format(test_file, test_file), color='red')\n",
    "ax.plot(x_axis, np.array([np.mean(both2test)] * 7), label='both->{}'.format(test_file), color='green')\n",
    "\n",
    "# xticks\n",
    "# plt.xticks(x_axis)\n",
    "\n",
    "# grid\n",
    "ax.set_xticks(x_axis, minor=False)\n",
    "ax.grid(which='major', axis='x')\n",
    "ax.grid(which='major', axis='y')\n",
    "\n",
    "plt.title('{}_{}'.format(task, metric))\n",
    "\n",
    "\n",
    "ax.legend(loc='upper right', bbox_to_anchor=(1.4, 1))\n",
    "\n",
    "plt.show()\n"
   ]
  },
  {
   "cell_type": "code",
   "execution_count": 34,
   "metadata": {},
   "outputs": [
    {
     "data": {
      "text/plain": [
       "array([0.1258, 0.1258, 0.1258, 0.1258, 0.1258, 0.1258, 0.1258])"
      ]
     },
     "execution_count": 34,
     "metadata": {},
     "output_type": "execute_result"
    }
   ],
   "source": [
    "np.array([np.mean(test2test)] * 7)"
   ]
  },
  {
   "cell_type": "code",
   "execution_count": 12,
   "metadata": {},
   "outputs": [
    {
     "data": {
      "text/plain": [
       "array([0.1102 , 0.11054, 0.11984, 0.13238, 0.148  , 0.14986, 0.16396])"
      ]
     },
     "execution_count": 12,
     "metadata": {},
     "output_type": "execute_result"
    }
   ],
   "source": [
    "np.array([np.mean(zero_shot), np.mean(one_shot), np.mean(three_shot), np.mean(five_shot), np.mean(seven_shot), np.mean(nine_shot), np.mean(full_shot)])"
   ]
  },
  {
   "cell_type": "code",
   "execution_count": 36,
   "metadata": {},
   "outputs": [
    {
     "data": {
      "text/plain": [
       "0.1258"
      ]
     },
     "execution_count": 36,
     "metadata": {},
     "output_type": "execute_result"
    }
   ],
   "source": [
    "np.mean(test2test)"
   ]
  },
  {
   "cell_type": "code",
   "execution_count": null,
   "metadata": {},
   "outputs": [],
   "source": []
  },
  {
   "cell_type": "code",
   "execution_count": null,
   "metadata": {},
   "outputs": [],
   "source": []
  },
  {
   "cell_type": "code",
   "execution_count": null,
   "metadata": {},
   "outputs": [],
   "source": []
  }
 ],
 "metadata": {
  "kernelspec": {
   "display_name": "Python 3",
   "language": "python",
   "name": "python3"
  },
  "language_info": {
   "codemirror_mode": {
    "name": "ipython",
    "version": 3
   },
   "file_extension": ".py",
   "mimetype": "text/x-python",
   "name": "python",
   "nbconvert_exporter": "python",
   "pygments_lexer": "ipython3",
   "version": "3.8.3"
  }
 },
 "nbformat": 4,
 "nbformat_minor": 4
}
